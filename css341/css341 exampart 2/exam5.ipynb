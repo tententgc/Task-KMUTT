{
 "cells": [
  {
   "cell_type": "code",
   "execution_count": 24,
   "metadata": {},
   "outputs": [
    {
     "name": "stdout",
     "output_type": "stream",
     "text": [
      "1.037353226681716\n",
      "30.198749999999997\n"
     ]
    }
   ],
   "source": [
    "import numpy as np\n",
    "\n",
    "def func(x):\n",
    "    res = 0\n",
    "    addition = 0\n",
    "    multi = 1\n",
    "    for i in range(1,x+1):\n",
    "        addition += (i)**2 / 4000\n",
    "        \n",
    "    for j in range(1,x+1):\n",
    "        multi *= np.cos(j/np.sqrt(j)) \n",
    "    res = addition - multi + 1\n",
    "    return res \n",
    "\n",
    "    \n",
    "        \n",
    "print(func(7))\n",
    "print(func(70 ))"
   ]
  }
 ],
 "metadata": {
  "kernelspec": {
   "display_name": "Python 3.10.7 64-bit",
   "language": "python",
   "name": "python3"
  },
  "language_info": {
   "codemirror_mode": {
    "name": "ipython",
    "version": 3
   },
   "file_extension": ".py",
   "mimetype": "text/x-python",
   "name": "python",
   "nbconvert_exporter": "python",
   "pygments_lexer": "ipython3",
   "version": "3.10.7"
  },
  "orig_nbformat": 4,
  "vscode": {
   "interpreter": {
    "hash": "b0fa6594d8f4cbf19f97940f81e996739fb7646882a419484c72d19e05852a7e"
   }
  }
 },
 "nbformat": 4,
 "nbformat_minor": 2
}
