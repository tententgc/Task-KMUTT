{
 "cells": [
  {
   "cell_type": "code",
   "execution_count": 1,
   "metadata": {},
   "outputs": [],
   "source": [
    "import pandas as pd\n",
    "import numpy as np\n",
    "import matplotlib.pyplot as plt\n",
    "%matplotlib inline\n",
    "import seaborn as sns \n",
    "\n",
    "df = pd.read_csv(\"Korean.csv\") \n",
    "df = df[[\"Title\",\"Year\",\"Genre\",\"Rating\"]]\n",
    "res = []\n",
    "for i in range(len(df)): \n",
    "    q = str(df[\"Year\"][i])\n",
    "    if \"an\" in q: \n",
    "        continue\n",
    "    if \"I\" in q:\n",
    "        q = q.split(\" \")[1]\n",
    "        if len(q) <= 8: \n",
    "           df[\"Year\"][i] = q[1:5],q[1:5]\n",
    "        else: \n",
    "           df[\"Year\"][i] = q[1:5],q[6:10]\n",
    "    elif len(q)<=8:\n",
    "        df[\"Year\"][i] = q[1:5],q[1:5]\n",
    "    else:\n",
    "        df[\"Year\"][i] = q[1:5],q[6:10]\n",
    "    df[\"Genre\"][i] = df[\"Genre\"][i].split(\",\")\n",
    "    for z in range(len(df[\"Genre\"][i])):\n",
    "        for m in range(int(df[\"Year\"][i][0]),int(df[\"Year\"][i][1])+1):\n",
    "            res.append([df[\"Genre\"][i][z],m,df[\"Rating\"][i]])\n",
    "        \n"
   ]
  },
  {
   "cell_type": "code",
   "execution_count": 2,
   "metadata": {},
   "outputs": [],
   "source": [
    "for i in res: \n",
    "    rk = pd.DataFrame(res,columns=[\"Genre\",\"Year\",\"Rating\"]) \n",
    "\n",
    "\n"
   ]
  },
  {
   "cell_type": "code",
   "execution_count": null,
   "metadata": {},
   "outputs": [],
   "source": [
    "a = [int(input()) for i in range(10)]\n",
    "a "
   ]
  }
 ],
 "metadata": {
  "kernelspec": {
   "display_name": "Python 3.9.12 ('base')",
   "language": "python",
   "name": "python3"
  },
  "language_info": {
   "codemirror_mode": {
    "name": "ipython",
    "version": 3
   },
   "file_extension": ".py",
   "mimetype": "text/x-python",
   "name": "python",
   "nbconvert_exporter": "python",
   "pygments_lexer": "ipython3",
   "version": "3.9.12"
  },
  "orig_nbformat": 4,
  "vscode": {
   "interpreter": {
    "hash": "40d3a090f54c6569ab1632332b64b2c03c39dcf918b08424e98f38b5ae0af88f"
   }
  }
 },
 "nbformat": 4,
 "nbformat_minor": 2
}
