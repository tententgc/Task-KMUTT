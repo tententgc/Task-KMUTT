{
 "cells": [
  {
   "cell_type": "markdown",
   "id": "d3e9a19d-f48c-4854-ac92-a1802c370f72",
   "metadata": {},
   "source": [
    "# Classifications for data science using Python\n",
    "## Logistic regression, Decision tree, Random forest, and Artificial neural networks (MLP)\n",
    "<P>Prepared by: Chukiat Worasucheep\n",
    "<P>Date: July 2022"
   ]
  },
  {
   "cell_type": "markdown",
   "id": "0c8d5494-0db0-456c-9b58-bd8027de806a",
   "metadata": {},
   "source": [
    "## Retrieve and prepare the data"
   ]
  },
  {
   "cell_type": "code",
   "execution_count": 1,
   "id": "2e07c12c-e943-4dc5-a28e-c15c1d229fa3",
   "metadata": {},
   "outputs": [],
   "source": [
    "# Import the libraries\n",
    "import numpy as np\n",
    "import matplotlib.pyplot as plt\n",
    "import pandas as pd\n",
    "from matplotlib.colors import ListedColormap"
   ]
  },
  {
   "cell_type": "code",
   "execution_count": 2,
   "id": "51bb9e2f-e114-4521-9e66-4a03a274f493",
   "metadata": {},
   "outputs": [
    {
     "name": "stdout",
     "output_type": "stream",
     "text": [
      "<class 'pandas.core.frame.DataFrame'>\n",
      "RangeIndex: 400 entries, 0 to 399\n",
      "Data columns (total 5 columns):\n",
      " #   Column           Non-Null Count  Dtype  \n",
      "---  ------           --------------  -----  \n",
      " 0   User ID          400 non-null    int64  \n",
      " 1   Gender           400 non-null    object \n",
      " 2   Age              400 non-null    float64\n",
      " 3   EstimatedSalary  400 non-null    float64\n",
      " 4   Purchased        400 non-null    int64  \n",
      "dtypes: float64(2), int64(2), object(1)\n",
      "memory usage: 15.8+ KB\n"
     ]
    }
   ],
   "source": [
    "# Read the dataset\n",
    "dataset = pd.read_csv('Social_Network_Ads.csv')\n",
    "dataset.info()"
   ]
  },
  {
   "cell_type": "code",
   "execution_count": 3,
   "id": "3b7d2976",
   "metadata": {},
   "outputs": [
    {
     "data": {
      "text/html": [
       "<div>\n",
       "<style scoped>\n",
       "    .dataframe tbody tr th:only-of-type {\n",
       "        vertical-align: middle;\n",
       "    }\n",
       "\n",
       "    .dataframe tbody tr th {\n",
       "        vertical-align: top;\n",
       "    }\n",
       "\n",
       "    .dataframe thead th {\n",
       "        text-align: right;\n",
       "    }\n",
       "</style>\n",
       "<table border=\"1\" class=\"dataframe\">\n",
       "  <thead>\n",
       "    <tr style=\"text-align: right;\">\n",
       "      <th></th>\n",
       "      <th>User ID</th>\n",
       "      <th>Age</th>\n",
       "      <th>EstimatedSalary</th>\n",
       "      <th>Purchased</th>\n",
       "    </tr>\n",
       "  </thead>\n",
       "  <tbody>\n",
       "    <tr>\n",
       "      <th>count</th>\n",
       "      <td>400.00</td>\n",
       "      <td>400.00</td>\n",
       "      <td>400.00</td>\n",
       "      <td>400.00</td>\n",
       "    </tr>\n",
       "    <tr>\n",
       "      <th>mean</th>\n",
       "      <td>15691539.76</td>\n",
       "      <td>37.66</td>\n",
       "      <td>69742.50</td>\n",
       "      <td>0.36</td>\n",
       "    </tr>\n",
       "    <tr>\n",
       "      <th>std</th>\n",
       "      <td>71658.32</td>\n",
       "      <td>10.48</td>\n",
       "      <td>34096.96</td>\n",
       "      <td>0.48</td>\n",
       "    </tr>\n",
       "    <tr>\n",
       "      <th>min</th>\n",
       "      <td>15566689.00</td>\n",
       "      <td>18.00</td>\n",
       "      <td>15000.00</td>\n",
       "      <td>0.00</td>\n",
       "    </tr>\n",
       "    <tr>\n",
       "      <th>25%</th>\n",
       "      <td>15626763.75</td>\n",
       "      <td>29.75</td>\n",
       "      <td>43000.00</td>\n",
       "      <td>0.00</td>\n",
       "    </tr>\n",
       "    <tr>\n",
       "      <th>50%</th>\n",
       "      <td>15694341.50</td>\n",
       "      <td>37.00</td>\n",
       "      <td>70000.00</td>\n",
       "      <td>0.00</td>\n",
       "    </tr>\n",
       "    <tr>\n",
       "      <th>75%</th>\n",
       "      <td>15750363.00</td>\n",
       "      <td>46.00</td>\n",
       "      <td>88000.00</td>\n",
       "      <td>1.00</td>\n",
       "    </tr>\n",
       "    <tr>\n",
       "      <th>max</th>\n",
       "      <td>15815236.00</td>\n",
       "      <td>60.00</td>\n",
       "      <td>150000.00</td>\n",
       "      <td>1.00</td>\n",
       "    </tr>\n",
       "  </tbody>\n",
       "</table>\n",
       "</div>"
      ],
      "text/plain": [
       "           User ID     Age EstimatedSalary Purchased\n",
       "count       400.00  400.00          400.00    400.00\n",
       "mean   15691539.76   37.66        69742.50      0.36\n",
       "std       71658.32   10.48        34096.96      0.48\n",
       "min    15566689.00   18.00        15000.00      0.00\n",
       "25%    15626763.75   29.75        43000.00      0.00\n",
       "50%    15694341.50   37.00        70000.00      0.00\n",
       "75%    15750363.00   46.00        88000.00      1.00\n",
       "max    15815236.00   60.00       150000.00      1.00"
      ]
     },
     "execution_count": 3,
     "metadata": {},
     "output_type": "execute_result"
    }
   ],
   "source": [
    "dataset.describe().applymap('{:.2f}'.format)"
   ]
  },
  {
   "cell_type": "code",
   "execution_count": 4,
   "id": "7b7e82e1-6aaa-4642-a355-e9f0d9041a30",
   "metadata": {},
   "outputs": [
    {
     "data": {
      "text/html": [
       "<div>\n",
       "<style scoped>\n",
       "    .dataframe tbody tr th:only-of-type {\n",
       "        vertical-align: middle;\n",
       "    }\n",
       "\n",
       "    .dataframe tbody tr th {\n",
       "        vertical-align: top;\n",
       "    }\n",
       "\n",
       "    .dataframe thead th {\n",
       "        text-align: right;\n",
       "    }\n",
       "</style>\n",
       "<table border=\"1\" class=\"dataframe\">\n",
       "  <thead>\n",
       "    <tr style=\"text-align: right;\">\n",
       "      <th></th>\n",
       "      <th>Gender</th>\n",
       "      <th>Age</th>\n",
       "      <th>EstimatedSalary</th>\n",
       "      <th>Purchased</th>\n",
       "    </tr>\n",
       "  </thead>\n",
       "  <tbody>\n",
       "    <tr>\n",
       "      <th>0</th>\n",
       "      <td>Male</td>\n",
       "      <td>19.0</td>\n",
       "      <td>19000.0</td>\n",
       "      <td>0</td>\n",
       "    </tr>\n",
       "    <tr>\n",
       "      <th>1</th>\n",
       "      <td>Male</td>\n",
       "      <td>35.0</td>\n",
       "      <td>20000.0</td>\n",
       "      <td>0</td>\n",
       "    </tr>\n",
       "    <tr>\n",
       "      <th>2</th>\n",
       "      <td>Female</td>\n",
       "      <td>26.0</td>\n",
       "      <td>43000.0</td>\n",
       "      <td>0</td>\n",
       "    </tr>\n",
       "    <tr>\n",
       "      <th>3</th>\n",
       "      <td>Female</td>\n",
       "      <td>27.0</td>\n",
       "      <td>57000.0</td>\n",
       "      <td>0</td>\n",
       "    </tr>\n",
       "    <tr>\n",
       "      <th>4</th>\n",
       "      <td>Male</td>\n",
       "      <td>19.0</td>\n",
       "      <td>76000.0</td>\n",
       "      <td>0</td>\n",
       "    </tr>\n",
       "    <tr>\n",
       "      <th>5</th>\n",
       "      <td>Male</td>\n",
       "      <td>27.0</td>\n",
       "      <td>58000.0</td>\n",
       "      <td>0</td>\n",
       "    </tr>\n",
       "    <tr>\n",
       "      <th>6</th>\n",
       "      <td>Female</td>\n",
       "      <td>27.0</td>\n",
       "      <td>84000.0</td>\n",
       "      <td>0</td>\n",
       "    </tr>\n",
       "    <tr>\n",
       "      <th>7</th>\n",
       "      <td>Female</td>\n",
       "      <td>32.0</td>\n",
       "      <td>150000.0</td>\n",
       "      <td>1</td>\n",
       "    </tr>\n",
       "    <tr>\n",
       "      <th>8</th>\n",
       "      <td>Male</td>\n",
       "      <td>25.0</td>\n",
       "      <td>33000.0</td>\n",
       "      <td>0</td>\n",
       "    </tr>\n",
       "    <tr>\n",
       "      <th>9</th>\n",
       "      <td>Female</td>\n",
       "      <td>35.0</td>\n",
       "      <td>65000.0</td>\n",
       "      <td>0</td>\n",
       "    </tr>\n",
       "    <tr>\n",
       "      <th>10</th>\n",
       "      <td>Female</td>\n",
       "      <td>26.0</td>\n",
       "      <td>80000.0</td>\n",
       "      <td>0</td>\n",
       "    </tr>\n",
       "    <tr>\n",
       "      <th>11</th>\n",
       "      <td>Female</td>\n",
       "      <td>26.0</td>\n",
       "      <td>52000.0</td>\n",
       "      <td>0</td>\n",
       "    </tr>\n",
       "    <tr>\n",
       "      <th>12</th>\n",
       "      <td>Male</td>\n",
       "      <td>20.0</td>\n",
       "      <td>86000.0</td>\n",
       "      <td>0</td>\n",
       "    </tr>\n",
       "    <tr>\n",
       "      <th>13</th>\n",
       "      <td>Male</td>\n",
       "      <td>32.0</td>\n",
       "      <td>18000.0</td>\n",
       "      <td>0</td>\n",
       "    </tr>\n",
       "    <tr>\n",
       "      <th>14</th>\n",
       "      <td>Male</td>\n",
       "      <td>18.0</td>\n",
       "      <td>82000.0</td>\n",
       "      <td>0</td>\n",
       "    </tr>\n",
       "    <tr>\n",
       "      <th>15</th>\n",
       "      <td>Male</td>\n",
       "      <td>29.0</td>\n",
       "      <td>80000.0</td>\n",
       "      <td>0</td>\n",
       "    </tr>\n",
       "    <tr>\n",
       "      <th>16</th>\n",
       "      <td>Male</td>\n",
       "      <td>47.0</td>\n",
       "      <td>25000.0</td>\n",
       "      <td>1</td>\n",
       "    </tr>\n",
       "    <tr>\n",
       "      <th>17</th>\n",
       "      <td>Male</td>\n",
       "      <td>45.0</td>\n",
       "      <td>26000.0</td>\n",
       "      <td>1</td>\n",
       "    </tr>\n",
       "  </tbody>\n",
       "</table>\n",
       "</div>"
      ],
      "text/plain": [
       "    Gender   Age  EstimatedSalary  Purchased\n",
       "0     Male  19.0          19000.0          0\n",
       "1     Male  35.0          20000.0          0\n",
       "2   Female  26.0          43000.0          0\n",
       "3   Female  27.0          57000.0          0\n",
       "4     Male  19.0          76000.0          0\n",
       "5     Male  27.0          58000.0          0\n",
       "6   Female  27.0          84000.0          0\n",
       "7   Female  32.0         150000.0          1\n",
       "8     Male  25.0          33000.0          0\n",
       "9   Female  35.0          65000.0          0\n",
       "10  Female  26.0          80000.0          0\n",
       "11  Female  26.0          52000.0          0\n",
       "12    Male  20.0          86000.0          0\n",
       "13    Male  32.0          18000.0          0\n",
       "14    Male  18.0          82000.0          0\n",
       "15    Male  29.0          80000.0          0\n",
       "16    Male  47.0          25000.0          1\n",
       "17    Male  45.0          26000.0          1"
      ]
     },
     "execution_count": 4,
     "metadata": {},
     "output_type": "execute_result"
    }
   ],
   "source": [
    "df = dataset.drop(['User ID'], axis=1)\n",
    "df.head(18)"
   ]
  },
  {
   "cell_type": "code",
   "execution_count": 5,
   "id": "b989f984-30ab-4865-aa12-f60fb4100949",
   "metadata": {},
   "outputs": [
    {
     "data": {
      "text/html": [
       "<div>\n",
       "<style scoped>\n",
       "    .dataframe tbody tr th:only-of-type {\n",
       "        vertical-align: middle;\n",
       "    }\n",
       "\n",
       "    .dataframe tbody tr th {\n",
       "        vertical-align: top;\n",
       "    }\n",
       "\n",
       "    .dataframe thead th {\n",
       "        text-align: right;\n",
       "    }\n",
       "</style>\n",
       "<table border=\"1\" class=\"dataframe\">\n",
       "  <thead>\n",
       "    <tr style=\"text-align: right;\">\n",
       "      <th></th>\n",
       "      <th>Gender</th>\n",
       "      <th>Age</th>\n",
       "      <th>EstimatedSalary</th>\n",
       "      <th>Purchased</th>\n",
       "    </tr>\n",
       "  </thead>\n",
       "  <tbody>\n",
       "    <tr>\n",
       "      <th>0</th>\n",
       "      <td>1</td>\n",
       "      <td>19.0</td>\n",
       "      <td>19000.0</td>\n",
       "      <td>0</td>\n",
       "    </tr>\n",
       "    <tr>\n",
       "      <th>1</th>\n",
       "      <td>1</td>\n",
       "      <td>35.0</td>\n",
       "      <td>20000.0</td>\n",
       "      <td>0</td>\n",
       "    </tr>\n",
       "    <tr>\n",
       "      <th>2</th>\n",
       "      <td>0</td>\n",
       "      <td>26.0</td>\n",
       "      <td>43000.0</td>\n",
       "      <td>0</td>\n",
       "    </tr>\n",
       "    <tr>\n",
       "      <th>3</th>\n",
       "      <td>0</td>\n",
       "      <td>27.0</td>\n",
       "      <td>57000.0</td>\n",
       "      <td>0</td>\n",
       "    </tr>\n",
       "    <tr>\n",
       "      <th>4</th>\n",
       "      <td>1</td>\n",
       "      <td>19.0</td>\n",
       "      <td>76000.0</td>\n",
       "      <td>0</td>\n",
       "    </tr>\n",
       "    <tr>\n",
       "      <th>5</th>\n",
       "      <td>1</td>\n",
       "      <td>27.0</td>\n",
       "      <td>58000.0</td>\n",
       "      <td>0</td>\n",
       "    </tr>\n",
       "    <tr>\n",
       "      <th>6</th>\n",
       "      <td>0</td>\n",
       "      <td>27.0</td>\n",
       "      <td>84000.0</td>\n",
       "      <td>0</td>\n",
       "    </tr>\n",
       "    <tr>\n",
       "      <th>7</th>\n",
       "      <td>0</td>\n",
       "      <td>32.0</td>\n",
       "      <td>150000.0</td>\n",
       "      <td>1</td>\n",
       "    </tr>\n",
       "    <tr>\n",
       "      <th>8</th>\n",
       "      <td>1</td>\n",
       "      <td>25.0</td>\n",
       "      <td>33000.0</td>\n",
       "      <td>0</td>\n",
       "    </tr>\n",
       "    <tr>\n",
       "      <th>9</th>\n",
       "      <td>0</td>\n",
       "      <td>35.0</td>\n",
       "      <td>65000.0</td>\n",
       "      <td>0</td>\n",
       "    </tr>\n",
       "    <tr>\n",
       "      <th>10</th>\n",
       "      <td>0</td>\n",
       "      <td>26.0</td>\n",
       "      <td>80000.0</td>\n",
       "      <td>0</td>\n",
       "    </tr>\n",
       "    <tr>\n",
       "      <th>11</th>\n",
       "      <td>0</td>\n",
       "      <td>26.0</td>\n",
       "      <td>52000.0</td>\n",
       "      <td>0</td>\n",
       "    </tr>\n",
       "    <tr>\n",
       "      <th>12</th>\n",
       "      <td>1</td>\n",
       "      <td>20.0</td>\n",
       "      <td>86000.0</td>\n",
       "      <td>0</td>\n",
       "    </tr>\n",
       "    <tr>\n",
       "      <th>13</th>\n",
       "      <td>1</td>\n",
       "      <td>32.0</td>\n",
       "      <td>18000.0</td>\n",
       "      <td>0</td>\n",
       "    </tr>\n",
       "    <tr>\n",
       "      <th>14</th>\n",
       "      <td>1</td>\n",
       "      <td>18.0</td>\n",
       "      <td>82000.0</td>\n",
       "      <td>0</td>\n",
       "    </tr>\n",
       "  </tbody>\n",
       "</table>\n",
       "</div>"
      ],
      "text/plain": [
       "    Gender   Age  EstimatedSalary  Purchased\n",
       "0        1  19.0          19000.0          0\n",
       "1        1  35.0          20000.0          0\n",
       "2        0  26.0          43000.0          0\n",
       "3        0  27.0          57000.0          0\n",
       "4        1  19.0          76000.0          0\n",
       "5        1  27.0          58000.0          0\n",
       "6        0  27.0          84000.0          0\n",
       "7        0  32.0         150000.0          1\n",
       "8        1  25.0          33000.0          0\n",
       "9        0  35.0          65000.0          0\n",
       "10       0  26.0          80000.0          0\n",
       "11       0  26.0          52000.0          0\n",
       "12       1  20.0          86000.0          0\n",
       "13       1  32.0          18000.0          0\n",
       "14       1  18.0          82000.0          0"
      ]
     },
     "execution_count": 5,
     "metadata": {},
     "output_type": "execute_result"
    }
   ],
   "source": [
    "# Encode data: transform each categorical variables into numerical (0, 1, 2, ...)\n",
    "\n",
    "from sklearn.preprocessing import LabelEncoder\n",
    "\n",
    "# Create instance of label encoder\n",
    "le1 = LabelEncoder()\n",
    "\n",
    "# Assign numerical values and replace in the same column\n",
    "df['Gender'] = le1.fit_transform(df['Gender'])\n",
    "\n",
    "# Do similarly for the label Purchased\n",
    "le2 = LabelEncoder()\n",
    "df['Purchased'] = le2.fit_transform(df['Purchased'])\n",
    "\n",
    "df.head(15)"
   ]
  },
  {
   "cell_type": "code",
   "execution_count": 6,
   "id": "c29aea8d-7e9c-4c44-adf9-412632646faf",
   "metadata": {},
   "outputs": [
    {
     "data": {
      "text/plain": [
       "(array([[1.0e+00, 1.9e+01, 1.9e+04],\n",
       "        [1.0e+00, 3.5e+01, 2.0e+04],\n",
       "        [0.0e+00, 2.6e+01, 4.3e+04],\n",
       "        ...,\n",
       "        [0.0e+00, 5.0e+01, 2.0e+04],\n",
       "        [1.0e+00, 3.6e+01, 3.3e+04],\n",
       "        [0.0e+00, 4.9e+01, 3.6e+04]]),\n",
       " array([0, 0, 0, 0, 0, 0, 0, 1, 0, 0, 0, 0, 0, 0, 0, 0, 1, 1, 1, 1, 1, 1,\n",
       "        1, 1, 1, 1, 1, 1, 0, 0, 0, 1, 0, 0, 0, 0, 0, 0, 0, 0, 0, 0, 0, 0,\n",
       "        0, 0, 0, 0, 1, 0, 0, 0, 0, 0, 0, 0, 0, 0, 0, 0, 0, 0, 0, 1, 0, 0,\n",
       "        0, 0, 0, 0, 0, 0, 0, 0, 0, 1, 0, 0, 0, 0, 0, 0, 0, 0, 0, 1, 0, 0,\n",
       "        0, 0, 0, 0, 0, 0, 0, 0, 0, 1, 0, 0, 0, 0, 0, 1, 0, 0, 0, 0, 0, 0,\n",
       "        0, 0, 0, 0, 0, 0, 0, 0, 0, 0, 0, 0, 0, 0, 0, 0, 0, 0, 0, 0, 0, 0,\n",
       "        0, 0, 0, 0, 0, 1, 0, 0, 0, 0, 0, 0, 0, 0, 1, 0, 0, 0, 0, 0, 0, 0,\n",
       "        0, 0, 0, 0, 0, 1, 1, 0, 0, 0, 0, 0, 0, 0, 1, 0, 0, 0, 0, 0, 0, 0,\n",
       "        0, 0, 0, 0, 0, 0, 1, 0, 0, 0, 0, 0, 0, 0, 0, 0, 0, 0, 0, 0, 0, 0,\n",
       "        0, 0, 0, 0, 1, 0, 1, 0, 1, 0, 1, 0, 1, 1, 0, 0, 0, 1, 0, 0, 0, 1,\n",
       "        0, 1, 1, 1, 0, 0, 1, 1, 0, 1, 1, 0, 1, 1, 0, 1, 0, 0, 0, 1, 1, 0,\n",
       "        1, 1, 0, 1, 0, 1, 0, 1, 0, 0, 1, 1, 0, 1, 0, 0, 1, 1, 0, 1, 1, 0,\n",
       "        1, 1, 0, 0, 1, 0, 0, 1, 1, 1, 1, 1, 0, 1, 1, 1, 1, 0, 1, 1, 0, 1,\n",
       "        0, 1, 0, 1, 1, 1, 1, 0, 0, 0, 1, 1, 0, 1, 1, 1, 1, 1, 0, 0, 0, 1,\n",
       "        1, 0, 0, 1, 0, 1, 0, 1, 1, 0, 1, 0, 1, 1, 0, 1, 1, 0, 0, 0, 1, 1,\n",
       "        0, 1, 0, 0, 1, 0, 1, 0, 0, 1, 1, 0, 0, 1, 1, 0, 1, 1, 0, 0, 1, 0,\n",
       "        1, 0, 1, 1, 1, 0, 1, 0, 1, 1, 1, 0, 1, 1, 1, 1, 0, 1, 1, 1, 0, 1,\n",
       "        0, 1, 0, 0, 1, 1, 0, 1, 1, 1, 1, 1, 1, 0, 1, 1, 1, 1, 1, 1, 0, 1,\n",
       "        1, 1, 0, 1], dtype=int64))"
      ]
     },
     "execution_count": 6,
     "metadata": {},
     "output_type": "execute_result"
    }
   ],
   "source": [
    "# Define features X and target variable y\n",
    "#\n",
    "X = df.iloc[:, 0:3].values\n",
    "y = df.iloc[:, 3].values\n",
    "X, y  # and see them"
   ]
  },
  {
   "cell_type": "code",
   "execution_count": 7,
   "id": "d908056e-669c-4e78-9307-ce1cbf2b75ba",
   "metadata": {},
   "outputs": [],
   "source": [
    "# Split the dataset into the Training set and Test set\n",
    "#\n",
    "from sklearn.model_selection import train_test_split\n",
    "\n",
    "X_train, X_test, y_train, y_test = train_test_split(X, y, test_size=0.2, random_state=101)"
   ]
  },
  {
   "cell_type": "code",
   "execution_count": 8,
   "id": "59b78cdc",
   "metadata": {},
   "outputs": [
    {
     "data": {
      "text/plain": [
       "array([0, 0, 0, 0, 0, 0, 0, 0, 0, 0, 1, 1, 0, 0, 0, 0, 1, 0, 0, 1, 1, 1,\n",
       "       0, 0, 0, 0, 0, 1, 0, 1, 0, 0, 0, 0, 1, 1, 1, 1, 1, 0, 0, 0, 0, 0,\n",
       "       1, 0, 0, 0, 1, 0, 0, 1, 0, 1, 1, 0, 1, 0, 0, 1, 1, 1, 0, 0, 0, 1,\n",
       "       0, 1, 0, 0, 0, 0, 1, 1, 0, 0, 0, 0, 0, 0], dtype=int64)"
      ]
     },
     "execution_count": 8,
     "metadata": {},
     "output_type": "execute_result"
    }
   ],
   "source": [
    "y_test"
   ]
  },
  {
   "cell_type": "code",
   "execution_count": 9,
   "id": "45b2725e",
   "metadata": {},
   "outputs": [
    {
     "data": {
      "text/plain": [
       "array([1, 0, 0, 0, 1, 1, 0, 1, 1, 1, 0, 0, 0, 0, 1, 0, 1, 1, 0, 0, 0, 0,\n",
       "       0, 0, 0, 0, 1, 0, 0, 0, 1, 1, 0, 0, 1, 0, 0, 0, 0, 1, 0, 1, 0, 0,\n",
       "       0, 1, 0, 0, 1, 0, 0, 0, 1, 0, 0, 0, 0, 0, 0, 1, 0, 0, 1, 1, 0, 0,\n",
       "       1, 0, 0, 1, 0, 0, 1, 1, 1, 0, 0, 0, 0, 0, 1, 1, 1, 0, 1, 0, 0, 0,\n",
       "       0, 0, 0, 0, 1, 0, 0, 0, 1, 0, 0, 1, 0, 1, 0, 0, 1, 1, 1, 1, 0, 1,\n",
       "       0, 0, 0, 1, 0, 1, 0, 0, 0, 0, 0, 0, 0, 0, 0, 1, 0, 0, 0, 1, 0, 1,\n",
       "       1, 1, 1, 0, 1, 0, 0, 1, 0, 1, 1, 0, 1, 1, 1, 0, 1, 1, 1, 1, 0, 0,\n",
       "       0, 0, 0, 1, 0, 1, 0, 0, 1, 0, 1, 0, 0, 0, 1, 1, 0, 0, 0, 1, 0, 1,\n",
       "       1, 0, 0, 1, 0, 0, 0, 1, 0, 0, 1, 0, 0, 1, 0, 0, 0, 0, 0, 0, 0, 0,\n",
       "       0, 0, 1, 1, 1, 0, 1, 1, 0, 1, 0, 0, 1, 0, 0, 0, 0, 1, 1, 1, 0, 0,\n",
       "       0, 1, 1, 1, 0, 1, 1, 0, 0, 1, 0, 0, 0, 0, 0, 0, 1, 0, 0, 0, 0, 0,\n",
       "       1, 0, 0, 0, 0, 1, 0, 0, 1, 0, 1, 0, 0, 1, 1, 0, 1, 0, 0, 0, 0, 1,\n",
       "       0, 0, 0, 1, 0, 0, 0, 1, 0, 0, 1, 0, 0, 1, 1, 0, 0, 0, 0, 0, 1, 1,\n",
       "       0, 1, 0, 1, 0, 0, 1, 1, 1, 0, 0, 1, 1, 0, 0, 1, 0, 1, 0, 0, 0, 0,\n",
       "       1, 1, 1, 0, 0, 1, 0, 1, 0, 0, 0, 0], dtype=int64)"
      ]
     },
     "execution_count": 9,
     "metadata": {},
     "output_type": "execute_result"
    }
   ],
   "source": [
    "y_train"
   ]
  },
  {
   "cell_type": "code",
   "execution_count": 10,
   "id": "a5b7e684-07d8-480f-b712-45ffd08013cb",
   "metadata": {},
   "outputs": [],
   "source": [
    "# Scale the features\n",
    "#\n",
    "from sklearn.preprocessing import MinMaxScaler\n",
    "sc = MinMaxScaler()\n",
    "X_train = sc.fit_transform(X_train)   # .fit() and then .transform()\n",
    "X_test  = sc.transform(X_test)"
   ]
  },
  {
   "cell_type": "markdown",
   "id": "b82f1bcc",
   "metadata": {},
   "source": [
    "## Logistic regression"
   ]
  },
  {
   "cell_type": "code",
   "execution_count": 11,
   "id": "18161c92",
   "metadata": {},
   "outputs": [
    {
     "data": {
      "text/plain": [
       "LogisticRegression(random_state=101)"
      ]
     },
     "execution_count": 11,
     "metadata": {},
     "output_type": "execute_result"
    }
   ],
   "source": [
    "# Logistic regression\n",
    "#\n",
    "from sklearn.linear_model import LogisticRegression\n",
    "\n",
    "# Create a decision tree classifier and train it with the training set\n",
    "#\n",
    "lr = LogisticRegression(random_state=101)\n",
    "lr.fit(X_train, y_train)"
   ]
  },
  {
   "cell_type": "code",
   "execution_count": 12,
   "id": "1f6c8913",
   "metadata": {},
   "outputs": [
    {
     "data": {
      "text/plain": [
       "array([0, 0, 1, 0, 0, 1, 0, 0, 0, 0, 1, 1, 0, 0, 0, 0, 1, 1, 0, 0, 1, 1,\n",
       "       0, 0, 0, 0, 0, 1, 0, 1, 0, 1, 0, 0, 1, 0, 1, 1, 0, 0, 0, 0, 0, 0,\n",
       "       1, 0, 0, 0, 1, 0, 0, 1, 0, 1, 1, 0, 1, 0, 0, 0, 0, 1, 0, 0, 0, 1,\n",
       "       0, 1, 0, 0, 0, 0, 0, 0, 0, 0, 0, 0, 0, 0], dtype=int64)"
      ]
     },
     "execution_count": 12,
     "metadata": {},
     "output_type": "execute_result"
    }
   ],
   "source": [
    "# Predict with the testing set and see the results\n",
    "#\n",
    "lr_pred = lr.predict(X_test)\n",
    "lr_pred"
   ]
  },
  {
   "cell_type": "code",
   "execution_count": 13,
   "id": "9ce4f8d9",
   "metadata": {},
   "outputs": [
    {
     "data": {
      "text/plain": [
       "array([0, 0, 0, 0, 0, 0, 0, 0, 0, 0, 1, 1, 0, 0, 0, 0, 1, 0, 0, 1, 1, 1,\n",
       "       0, 0, 0, 0, 0, 1, 0, 1, 0, 0, 0, 0, 1, 1, 1, 1, 1, 0, 0, 0, 0, 0,\n",
       "       1, 0, 0, 0, 1, 0, 0, 1, 0, 1, 1, 0, 1, 0, 0, 1, 1, 1, 0, 0, 0, 1,\n",
       "       0, 1, 0, 0, 0, 0, 1, 1, 0, 0, 0, 0, 0, 0], dtype=int64)"
      ]
     },
     "execution_count": 13,
     "metadata": {},
     "output_type": "execute_result"
    }
   ],
   "source": [
    "# Look at the actual y_test\n",
    "#\n",
    "y_test"
   ]
  },
  {
   "cell_type": "markdown",
   "id": "6a10c00d-e8cd-4f99-8f5b-bd29618f7049",
   "metadata": {},
   "source": [
    "## Decision Tree"
   ]
  },
  {
   "cell_type": "code",
   "execution_count": 14,
   "id": "d5163b03-3e3c-43d6-a668-88147019e8dc",
   "metadata": {},
   "outputs": [
    {
     "data": {
      "text/plain": [
       "DecisionTreeClassifier(random_state=101)"
      ]
     },
     "execution_count": 14,
     "metadata": {},
     "output_type": "execute_result"
    }
   ],
   "source": [
    "# Decision Tree Classifier\n",
    "#\n",
    "from sklearn.tree import DecisionTreeClassifier\n",
    "\n",
    "# Create a decision tree classifier and train it with the training set\n",
    "#\n",
    "dt = DecisionTreeClassifier(random_state=101)\n",
    "dt.fit(X_train, y_train)"
   ]
  },
  {
   "cell_type": "code",
   "execution_count": 15,
   "id": "0917de77-cda1-4f25-b464-e953f96f39a4",
   "metadata": {},
   "outputs": [
    {
     "data": {
      "text/plain": [
       "array([0, 1, 1, 0, 0, 0, 0, 0, 0, 0, 1, 1, 0, 0, 0, 0, 1, 1, 0, 1, 1, 1,\n",
       "       0, 1, 0, 0, 0, 1, 1, 1, 0, 1, 0, 0, 1, 1, 1, 1, 1, 0, 0, 0, 0, 0,\n",
       "       1, 0, 0, 0, 1, 0, 0, 1, 0, 0, 1, 0, 1, 0, 0, 0, 1, 0, 0, 0, 0, 1,\n",
       "       0, 1, 0, 0, 0, 0, 1, 1, 0, 0, 0, 0, 0, 0], dtype=int64)"
      ]
     },
     "execution_count": 15,
     "metadata": {},
     "output_type": "execute_result"
    }
   ],
   "source": [
    "# Predict with the testing set and see the results\n",
    "#\n",
    "dt_pred = dt.predict(X_test)\n",
    "dt_pred"
   ]
  },
  {
   "cell_type": "code",
   "execution_count": 16,
   "id": "4a9a4f94-710b-4dcc-8b16-709ffdc8afe5",
   "metadata": {},
   "outputs": [
    {
     "data": {
      "text/plain": [
       "array([0, 0, 0, 0, 0, 0, 0, 0, 0, 0, 1, 1, 0, 0, 0, 0, 1, 0, 0, 1, 1, 1,\n",
       "       0, 0, 0, 0, 0, 1, 0, 1, 0, 0, 0, 0, 1, 1, 1, 1, 1, 0, 0, 0, 0, 0,\n",
       "       1, 0, 0, 0, 1, 0, 0, 1, 0, 1, 1, 0, 1, 0, 0, 1, 1, 1, 0, 0, 0, 1,\n",
       "       0, 1, 0, 0, 0, 0, 1, 1, 0, 0, 0, 0, 0, 0], dtype=int64)"
      ]
     },
     "execution_count": 16,
     "metadata": {},
     "output_type": "execute_result"
    }
   ],
   "source": [
    "# Look at the actual y_test\n",
    "#\n",
    "y_test"
   ]
  },
  {
   "cell_type": "code",
   "execution_count": 17,
   "id": "90691af3",
   "metadata": {},
   "outputs": [
    {
     "data": {
      "text/plain": [
       "array([0.02368942, 0.52744149, 0.44886909])"
      ]
     },
     "execution_count": 17,
     "metadata": {},
     "output_type": "execute_result"
    }
   ],
   "source": [
    "dt.feature_importances_"
   ]
  },
  {
   "cell_type": "code",
   "execution_count": 18,
   "id": "7370557d",
   "metadata": {},
   "outputs": [],
   "source": [
    "import matplotlib.pyplot as plt\n",
    "\n",
    "def show_feature_importances(algo_name, column_names, importances):\n",
    "    sorted_indices = np.argsort(importances)[::-1] # Sort the feature importance in descending order\n",
    "\n",
    "    plt.rcParams[\"figure.figsize\"] = (8, 4)\n",
    "    title = 'Feature Importances using ' + algo_name\n",
    "    plt.title(title, fontsize=15)\n",
    "    plt.bar(range(X_train.shape[1]), importances[sorted_indices], align='center')\n",
    "    plt.xticks(range(X_train.shape[1]), column_names[sorted_indices], rotation=0)\n",
    "    \n",
    "    a = importances[sorted_indices]\n",
    "    for index, data in enumerate(a):\n",
    "        plt.text(x=index , y=data+.005 , s=f\"{data:.3f}\" , fontdict=dict(fontsize=12))\n",
    "    \n",
    "    plt.tight_layout()\n",
    "    print(column_names, importances)\n",
    "    plt.show()"
   ]
  },
  {
   "cell_type": "code",
   "execution_count": 19,
   "id": "5f3a379d",
   "metadata": {},
   "outputs": [
    {
     "name": "stdout",
     "output_type": "stream",
     "text": [
      "['Gender' 'Age' 'EstimatedSalary' 'Purchased'] [0.02368942 0.52744149 0.44886909]\n"
     ]
    },
    {
     "data": {
      "image/png": "[encoded data removed]",
      "text/plain": [
       "<Figure size 576x288 with 1 Axes>"
      ]
     },
     "metadata": {
      "needs_background": "light"
     },
     "output_type": "display_data"
    }
   ],
   "source": [
    "show_feature_importances('DT', df.columns.values, dt.feature_importances_)"
   ]
  },
  {
   "cell_type": "markdown",
   "id": "691e1303-b772-409e-84c3-49109f4c9de8",
   "metadata": {},
   "source": [
    "## Random Forest"
   ]
  },
  {
   "cell_type": "code",
   "execution_count": 20,
   "id": "f8dadf38-307c-4ae8-9d3d-12779e029ec0",
   "metadata": {},
   "outputs": [
    {
     "data": {
      "text/plain": [
       "RandomForestClassifier(random_state=101)"
      ]
     },
     "execution_count": 20,
     "metadata": {},
     "output_type": "execute_result"
    }
   ],
   "source": [
    "from sklearn.ensemble import RandomForestClassifier\n",
    "\n",
    "# Create RF and train it with Training set\n",
    "#\n",
    "rf = RandomForestClassifier(random_state=101)\n",
    "rf.fit(X_train, y_train)"
   ]
  },
  {
   "cell_type": "code",
   "execution_count": 21,
   "id": "dc7a1190-cd02-47fa-b920-70f5e07732ec",
   "metadata": {},
   "outputs": [
    {
     "data": {
      "text/plain": [
       "array([0, 0, 1, 0, 0, 1, 0, 0, 0, 0, 1, 1, 1, 0, 0, 0, 1, 1, 0, 1, 1, 1,\n",
       "       0, 0, 0, 0, 0, 1, 1, 1, 0, 0, 0, 0, 1, 1, 1, 1, 1, 0, 0, 0, 0, 0,\n",
       "       1, 0, 0, 0, 1, 0, 0, 1, 0, 0, 1, 0, 1, 0, 0, 1, 1, 0, 0, 1, 0, 1,\n",
       "       0, 1, 0, 0, 0, 0, 1, 1, 0, 0, 0, 0, 0, 0], dtype=int64)"
      ]
     },
     "execution_count": 21,
     "metadata": {},
     "output_type": "execute_result"
    }
   ],
   "source": [
    "# Predict with the Test set and see the results\n",
    "#\n",
    "rf_pred = rf.predict(X_test)\n",
    "rf_pred"
   ]
  },
  {
   "cell_type": "code",
   "execution_count": 22,
   "id": "9d8c6e2b-66f4-4d9e-9526-e0e4c929dabf",
   "metadata": {},
   "outputs": [
    {
     "data": {
      "text/plain": [
       "array([0, 0, 0, 0, 0, 0, 0, 0, 0, 0, 1, 1, 0, 0, 0, 0, 1, 0, 0, 1, 1, 1,\n",
       "       0, 0, 0, 0, 0, 1, 0, 1, 0, 0, 0, 0, 1, 1, 1, 1, 1, 0, 0, 0, 0, 0,\n",
       "       1, 0, 0, 0, 1, 0, 0, 1, 0, 1, 1, 0, 1, 0, 0, 1, 1, 1, 0, 0, 0, 1,\n",
       "       0, 1, 0, 0, 0, 0, 1, 1, 0, 0, 0, 0, 0, 0], dtype=int64)"
      ]
     },
     "execution_count": 22,
     "metadata": {},
     "output_type": "execute_result"
    }
   ],
   "source": [
    "y_test"
   ]
  },
  {
   "cell_type": "code",
   "execution_count": 23,
   "id": "77c8333b",
   "metadata": {},
   "outputs": [
    {
     "name": "stdout",
     "output_type": "stream",
     "text": [
      "['Gender' 'Age' 'EstimatedSalary' 'Purchased'] [0.01112591 0.50792301 0.48095108]\n"
     ]
    },
    {
     "data": {
      "image/png": "[encoded data removed]",
      "text/plain": [
       "<Figure size 576x288 with 1 Axes>"
      ]
     },
     "metadata": {
      "needs_background": "light"
     },
     "output_type": "display_data"
    }
   ],
   "source": [
    "show_feature_importances('RF', df.columns.values, rf.feature_importances_)"
   ]
  },
  {
   "cell_type": "markdown",
   "id": "6ac7074f-fed0-4d73-a7da-bcf9860039bc",
   "metadata": {},
   "source": [
    "## MLP Artificial Neural Network (ANN)"
   ]
  },
  {
   "cell_type": "code",
   "execution_count": 24,
   "id": "82025eb7-cf7e-43df-8ad3-1b023ddab8fa",
   "metadata": {},
   "outputs": [
    {
     "data": {
      "text/plain": [
       "MLPClassifier(max_iter=1000, random_state=101)"
      ]
     },
     "execution_count": 24,
     "metadata": {},
     "output_type": "execute_result"
    }
   ],
   "source": [
    "from sklearn.neural_network import MLPClassifier\n",
    "\n",
    "# Create MLP and train it with Training set\n",
    "#\n",
    "nn = MLPClassifier(max_iter=1000, random_state=101)\n",
    "nn.fit(X_train, y_train)"
   ]
  },
  {
   "cell_type": "code",
   "execution_count": 25,
   "id": "6fc72cb7-0101-4797-84c9-b9b8d5c49524",
   "metadata": {},
   "outputs": [
    {
     "data": {
      "text/plain": [
       "array([0, 0, 1, 0, 0, 1, 0, 0, 0, 0, 1, 1, 1, 0, 0, 0, 1, 1, 0, 1, 1, 1,\n",
       "       0, 0, 0, 0, 0, 1, 1, 1, 0, 1, 0, 0, 1, 0, 1, 1, 1, 0, 0, 0, 0, 0,\n",
       "       1, 0, 0, 0, 1, 0, 0, 1, 0, 1, 1, 0, 1, 0, 0, 1, 1, 1, 0, 0, 0, 1,\n",
       "       0, 1, 0, 0, 0, 0, 1, 1, 0, 0, 0, 0, 0, 0], dtype=int64)"
      ]
     },
     "execution_count": 25,
     "metadata": {},
     "output_type": "execute_result"
    }
   ],
   "source": [
    "# Predict with the Test set and see the results\n",
    "#\n",
    "nn_pred = nn.predict(X_test)\n",
    "nn_pred"
   ]
  },
  {
   "cell_type": "code",
   "execution_count": 26,
   "id": "90f84fea-9413-4fec-a272-7ac827893452",
   "metadata": {},
   "outputs": [
    {
     "data": {
      "text/plain": [
       "array([0, 0, 0, 0, 0, 0, 0, 0, 0, 0, 1, 1, 0, 0, 0, 0, 1, 0, 0, 1, 1, 1,\n",
       "       0, 0, 0, 0, 0, 1, 0, 1, 0, 0, 0, 0, 1, 1, 1, 1, 1, 0, 0, 0, 0, 0,\n",
       "       1, 0, 0, 0, 1, 0, 0, 1, 0, 1, 1, 0, 1, 0, 0, 1, 1, 1, 0, 0, 0, 1,\n",
       "       0, 1, 0, 0, 0, 0, 1, 1, 0, 0, 0, 0, 0, 0], dtype=int64)"
      ]
     },
     "execution_count": 26,
     "metadata": {},
     "output_type": "execute_result"
    }
   ],
   "source": [
    "y_test"
   ]
  },
  {
   "cell_type": "code",
   "execution_count": 27,
   "id": "1b85ce56",
   "metadata": {},
   "outputs": [],
   "source": [
    "# Unfortunetly, there is no easy way to show relative importances of features from MLPClassifier\n",
    "#\n",
    "#show_feature_importances('NN', df.columns.values, nn.feature_importances_)"
   ]
  },
  {
   "cell_type": "markdown",
   "id": "11d7b0f8-5369-479d-937b-24eec011612a",
   "metadata": {},
   "source": [
    "## Performance of classification algorithms: accuracy, F1_score"
   ]
  },
  {
   "cell_type": "code",
   "execution_count": 28,
   "id": "b52f1130",
   "metadata": {},
   "outputs": [],
   "source": [
    "from sklearn.metrics import accuracy_score, recall_score, precision_score, f1_score\n",
    "from sklearn.metrics import confusion_matrix, classification_report"
   ]
  },
  {
   "cell_type": "code",
   "execution_count": 29,
   "id": "8c6d261f-2e25-4696-8911-57f100a64ea7",
   "metadata": {},
   "outputs": [
    {
     "name": "stdout",
     "output_type": "stream",
     "text": [
      "Accuracy Score:  0.8625\n",
      "Recall Score:    0.731\n",
      "Precision Score: 0.826\n",
      "F1 score:        0.776\n"
     ]
    }
   ],
   "source": [
    "# See performance metrices of logistic regression\n",
    "#\n",
    "lr_acc = accuracy_score(y_test, lr_pred)\n",
    "print('Accuracy Score: ', lr_acc)\n",
    "\n",
    "lr_rec = round(recall_score(y_test, lr_pred), 3)\n",
    "print('Recall Score:   ', lr_rec)\n",
    "\n",
    "lr_pre = round(precision_score(y_test, lr_pred), 3)\n",
    "print('Precision Score:', lr_pre)\n",
    "\n",
    "lr_f1 = round(f1_score(y_test, lr_pred), 3)\n",
    "print('F1 score:       ', lr_f1)"
   ]
  },
  {
   "cell_type": "code",
   "execution_count": 30,
   "id": "238b9a12",
   "metadata": {},
   "outputs": [
    {
     "name": "stdout",
     "output_type": "stream",
     "text": [
      "[[50  4]\n",
      " [ 7 19]]\n",
      "              precision    recall  f1-score   support\n",
      "\n",
      "           0       0.88      0.93      0.90        54\n",
      "           1       0.83      0.73      0.78        26\n",
      "\n",
      "    accuracy                           0.86        80\n",
      "   macro avg       0.85      0.83      0.84        80\n",
      "weighted avg       0.86      0.86      0.86        80\n",
      "\n"
     ]
    }
   ],
   "source": [
    "# See the confusion matrix of logistic regression\n",
    "#\n",
    "print(confusion_matrix(y_test, lr_pred))\n",
    "print(classification_report(y_test, lr_pred))"
   ]
  },
  {
   "cell_type": "code",
   "execution_count": 31,
   "id": "b5052d02",
   "metadata": {},
   "outputs": [
    {
     "name": "stdout",
     "output_type": "stream",
     "text": [
      "Accuracy Score:  0.8875\n",
      "Recall Score:    0.885\n",
      "Precision Score: 0.793\n",
      "F1 score:        0.836\n"
     ]
    }
   ],
   "source": [
    "# See performance metrices of decision tree\n",
    "#\n",
    "dt_acc = accuracy_score(y_test, dt_pred)\n",
    "print('Accuracy Score: ', dt_acc)\n",
    "\n",
    "dt_rec = round(recall_score(y_test, dt_pred), 3)\n",
    "print('Recall Score:   ', dt_rec)\n",
    "\n",
    "dt_pre = round(precision_score(y_test, dt_pred), 3)\n",
    "print('Precision Score:', dt_pre)\n",
    "\n",
    "dt_f1 = round(f1_score(y_test, dt_pred), 3)\n",
    "print('F1 score:       ', dt_f1)"
   ]
  },
  {
   "cell_type": "code",
   "execution_count": 32,
   "id": "93389bc6-0251-4b08-ad75-13f204916554",
   "metadata": {},
   "outputs": [
    {
     "name": "stdout",
     "output_type": "stream",
     "text": [
      "[[48  6]\n",
      " [ 3 23]]\n",
      "              precision    recall  f1-score   support\n",
      "\n",
      "           0       0.94      0.89      0.91        54\n",
      "           1       0.79      0.88      0.84        26\n",
      "\n",
      "    accuracy                           0.89        80\n",
      "   macro avg       0.87      0.89      0.88        80\n",
      "weighted avg       0.89      0.89      0.89        80\n",
      "\n"
     ]
    }
   ],
   "source": [
    "# See the confusion matrix of decision tree\n",
    "#\n",
    "print(confusion_matrix(y_test, dt_pred))\n",
    "print(classification_report(y_test, dt_pred))"
   ]
  },
  {
   "cell_type": "code",
   "execution_count": 33,
   "id": "7fd32143-937d-4dba-a3d1-011efbd5c57c",
   "metadata": {},
   "outputs": [
    {
     "name": "stdout",
     "output_type": "stream",
     "text": [
      "Accuracy Score:  0.9\n",
      "Recall Score:    0.923\n",
      "Precision Score: 0.8\n",
      "F1 score:        0.857\n"
     ]
    }
   ],
   "source": [
    "# See performance metrices of random forest\n",
    "#\n",
    "rf_acc = accuracy_score(y_test, rf_pred)\n",
    "print('Accuracy Score: ', rf_acc)\n",
    "\n",
    "rf_rec = round(recall_score(y_test, rf_pred), 3)\n",
    "print('Recall Score:   ', rf_rec)\n",
    "\n",
    "rf_pre = round(precision_score(y_test, rf_pred), 3)\n",
    "print('Precision Score:', rf_pre)\n",
    "\n",
    "rf_f1 = round(f1_score(y_test, rf_pred), 3)\n",
    "print('F1 score:       ', rf_f1)"
   ]
  },
  {
   "cell_type": "code",
   "execution_count": 34,
   "id": "6e6ad64e-62b5-4773-9865-b155f582db72",
   "metadata": {},
   "outputs": [
    {
     "name": "stdout",
     "output_type": "stream",
     "text": [
      "[[48  6]\n",
      " [ 2 24]]\n",
      "              precision    recall  f1-score   support\n",
      "\n",
      "           0       0.96      0.89      0.92        54\n",
      "           1       0.80      0.92      0.86        26\n",
      "\n",
      "    accuracy                           0.90        80\n",
      "   macro avg       0.88      0.91      0.89        80\n",
      "weighted avg       0.91      0.90      0.90        80\n",
      "\n"
     ]
    }
   ],
   "source": [
    "# See the confusion matrix of random forest\n",
    "#\n",
    "print(confusion_matrix(y_test, rf_pred))\n",
    "print(classification_report(y_test, rf_pred))"
   ]
  },
  {
   "cell_type": "code",
   "execution_count": 35,
   "id": "9ac860b5-85ac-4bd6-b810-13a3932bb2ac",
   "metadata": {},
   "outputs": [
    {
     "name": "stdout",
     "output_type": "stream",
     "text": [
      "Accuracy Score:  0.9125\n",
      "Recall Score:    0.962\n",
      "Precision Score: 0.806\n",
      "F1 score:        0.877\n"
     ]
    }
   ],
   "source": [
    "# See performance metrices MLP (artificial neural network)\n",
    "#\n",
    "nn_acc = accuracy_score(y_test, nn_pred)\n",
    "print('Accuracy Score: ', nn_acc)\n",
    "\n",
    "nn_rec = round(recall_score(y_test, nn_pred), 3)\n",
    "print('Recall Score:   ', nn_rec)\n",
    "\n",
    "nn_pre = round(precision_score(y_test, nn_pred), 3)\n",
    "print('Precision Score:', nn_pre)\n",
    "\n",
    "nn_f1 = round(f1_score(y_test, nn_pred), 3)\n",
    "print('F1 score:       ', nn_f1)"
   ]
  },
  {
   "cell_type": "code",
   "execution_count": 36,
   "id": "895a44f1-a72c-4ae3-9af3-976426b983e0",
   "metadata": {},
   "outputs": [
    {
     "name": "stdout",
     "output_type": "stream",
     "text": [
      "[[48  6]\n",
      " [ 1 25]]\n",
      "              precision    recall  f1-score   support\n",
      "\n",
      "           0       0.98      0.89      0.93        54\n",
      "           1       0.81      0.96      0.88        26\n",
      "\n",
      "    accuracy                           0.91        80\n",
      "   macro avg       0.89      0.93      0.90        80\n",
      "weighted avg       0.92      0.91      0.91        80\n",
      "\n"
     ]
    }
   ],
   "source": [
    "# See the confusion matrix of nn (artificial neural network)\n",
    "#\n",
    "print(confusion_matrix(y_test, nn_pred))\n",
    "print(classification_report(y_test, nn_pred))\n",
    "\n",
    "cmat = confusion_matrix(y_test, nn_pred) # for further visualizaiton"
   ]
  },
  {
   "cell_type": "markdown",
   "id": "23a769aa",
   "metadata": {},
   "source": [
    "### A probably nicer confusion matrix"
   ]
  },
  {
   "cell_type": "code",
   "execution_count": 37,
   "id": "23d0d81f-8a74-425f-9fad-abbb7d0a8b92",
   "metadata": {},
   "outputs": [
    {
     "data": {
      "image/png": "[encoded data removed]",
      "text/plain": [
       "<Figure size 216x216 with 1 Axes>"
      ]
     },
     "metadata": {
      "needs_background": "light"
     },
     "output_type": "display_data"
    }
   ],
   "source": [
    "#\n",
    "# Print the confusion matrix using Matplotlib\n",
    "#\n",
    "fig, ax = plt.subplots(figsize=(3, 3))\n",
    "ax.matshow(cmat, cmap=plt.cm.Oranges, alpha=0.3)\n",
    "for i in range(cmat.shape[0]):\n",
    "    for j in range(cmat.shape[1]):\n",
    "        ax.text(x=j, y=i,s=cmat[i, j], va='center', ha='center', size='xx-large')\n",
    " \n",
    "plt.xlabel('Predictions', fontsize=12)\n",
    "plt.ylabel('Actuals', fontsize=12)\n",
    "plt.title('Confusion Matrix of ANN', fontsize=14)\n",
    "plt.show()"
   ]
  },
  {
   "attachments": {
    "image.png": {
     "image/png": "[encoded data removed]"
    }
   },
   "cell_type": "markdown",
   "id": "ed377470-af92-4de4-9b2e-08c5e26b0f23",
   "metadata": {},
   "source": [
    "## Receiver Operating Characteristic (ROC) Curve and Area Under the Curve (AUC)\n",
    "ROC curves summarize the trade-off between the true positive rate and false positive rate for a predictive model using different probability thresholds.\n",
    "![image.png](attachment:image.png)"
   ]
  },
  {
   "cell_type": "code",
   "execution_count": 38,
   "id": "2c75fb5c-b655-4e65-9691-12c809aa542b",
   "metadata": {},
   "outputs": [
    {
     "name": "stdout",
     "output_type": "stream",
     "text": [
      "Probability to be 'yes'\n",
      "LR:  [0.101, 0.38, 0.744, 0.167, 0.161, 0.683, 0.054, 0.352, 0.07, 0.054, 0.674, 0.844, 0.447, 0.23, 0.33, 0.146, 0.605, 0.528, 0.352, 0.4, 0.683, 0.836, 0.433, 0.352, 0.409, 0.017, 0.022, 0.76, 0.458, 0.717, 0.169, 0.512, 0.051, 0.02, 0.806, 0.321, 0.926, 0.649, 0.381, 0.062, 0.09, 0.064, 0.283, 0.2, 0.904, 0.256, 0.167, 0.19, 0.744, 0.11, 0.237, 0.931, 0.032, 0.864, 0.81, 0.248, 0.962, 0.024, 0.058, 0.357, 0.433, 0.517, 0.046, 0.303, 0.175, 0.733, 0.404, 0.662, 0.226, 0.237, 0.143, 0.073, 0.427, 0.376, 0.181, 0.153, 0.084, 0.038, 0.321, 0.244] \n",
      "\n",
      "DT:  [0.0, 1.0, 1.0, 0.0, 0.0, 0.0, 0.0, 0.0, 0.0, 0.0, 1.0, 1.0, 0.0, 0.0, 0.0, 0.0, 1.0, 1.0, 0.0, 1.0, 1.0, 1.0, 0.0, 1.0, 0.0, 0.0, 0.0, 1.0, 1.0, 1.0, 0.0, 1.0, 0.0, 0.0, 1.0, 1.0, 1.0, 1.0, 1.0, 0.0, 0.0, 0.0, 0.0, 0.0, 1.0, 0.0, 0.0, 0.0, 1.0, 0.0, 0.0, 1.0, 0.0, 0.0, 1.0, 0.0, 1.0, 0.0, 0.0, 0.0, 1.0, 0.0, 0.0, 0.5, 0.0, 1.0, 0.0, 1.0, 0.0, 0.0, 0.0, 0.0, 1.0, 1.0, 0.0, 0.0, 0.0, 0.0, 0.0, 0.0] \n",
      "\n",
      "RF:  [0.0, 0.22, 0.97, 0.0, 0.0, 0.76, 0.0, 0.0, 0.01, 0.0, 0.97, 0.93, 0.815, 0.07, 0.11, 0.0, 0.99, 0.51, 0.2, 0.98, 0.99, 0.95, 0.0, 0.41, 0.17, 0.06, 0.03, 0.73, 0.93, 0.69, 0.04, 0.49, 0.02, 0.06, 0.93, 0.81, 0.99, 0.98, 0.99, 0.0, 0.03, 0.0, 0.04, 0.0, 0.61, 0.01, 0.01, 0.03, 0.9, 0.07, 0.03, 0.94, 0.0, 0.41, 0.8, 0.0, 0.86, 0.0, 0.0, 0.79, 0.96, 0.305, 0.01, 0.609, 0.0, 0.84, 0.0, 0.92, 0.02, 0.0, 0.08, 0.0, 0.96, 0.98, 0.01, 0.0, 0.0, 0.0, 0.01, 0.0] \n",
      "\n",
      "NN:  [0.011, 0.221, 0.933, 0.027, 0.012, 0.756, 0.004, 0.128, 0.001, 0.011, 0.986, 0.827, 0.795, 0.115, 0.168, 0.008, 0.923, 0.605, 0.178, 0.733, 0.978, 0.944, 0.26, 0.222, 0.327, 0.0, 0.0, 0.935, 0.614, 0.674, 0.051, 0.585, 0.0, 0.0, 0.992, 0.372, 0.949, 0.955, 0.719, 0.007, 0.011, 0.002, 0.105, 0.018, 0.971, 0.087, 0.027, 0.071, 0.862, 0.027, 0.043, 0.904, 0.0, 0.887, 0.959, 0.064, 0.996, 0.0, 0.002, 0.57, 0.719, 0.75, 0.001, 0.483, 0.023, 0.84, 0.19, 0.966, 0.027, 0.039, 0.036, 0.002, 0.891, 0.629, 0.042, 0.01, 0.005, 0.002, 0.113, 0.06] \n",
      "\n"
     ]
    }
   ],
   "source": [
    "from sklearn.metrics import roc_curve\n",
    "from sklearn.metrics import roc_auc_score\n",
    "\n",
    "# predict probabilities and keep for the positive outcomes only\n",
    "lr_probs = lr.predict_proba(X_test)[:, 1]\n",
    "dt_probs = dt.predict_proba(X_test)[:, 1]\n",
    "rf_probs = rf.predict_proba(X_test)[:, 1]\n",
    "nn_probs = nn.predict_proba(X_test)[:, 1]\n",
    "\n",
    "# generate a no-skill prediction (majority class)\n",
    "bl_probs = [0 for _ in range(len(X_test))]\n",
    "\n",
    "print(\"Probability to be 'yes'\")\n",
    "print('LR: ', [round(x, 3) for x in lr_probs], '\\n')\n",
    "print('DT: ', [round(x, 3) for x in dt_probs], '\\n')\n",
    "print('RF: ', [round(x, 3) for x in rf_probs], '\\n')\n",
    "print('NN: ', [round(x, 3) for x in nn_probs], '\\n')"
   ]
  },
  {
   "cell_type": "code",
   "execution_count": 39,
   "id": "478233c4-f235-4233-ae86-153edfb332cc",
   "metadata": {},
   "outputs": [
    {
     "name": "stdout",
     "output_type": "stream",
     "text": [
      "AUC (area under ROC):\n",
      "Log. Regression: 0.942\n",
      "Decision tree:   0.886\n",
      "Random foreset:  0.963\n",
      "Neural net:      0.973\n",
      "Baseline:        0.500\n"
     ]
    }
   ],
   "source": [
    "# calculate AUC scores\n",
    "lr_auc = roc_auc_score(y_test, lr_probs)\n",
    "dt_auc = roc_auc_score(y_test, dt_probs)\n",
    "rf_auc = roc_auc_score(y_test, rf_probs)\n",
    "nn_auc = roc_auc_score(y_test, nn_probs)\n",
    "bl_auc = roc_auc_score(y_test, bl_probs)\n",
    "\n",
    "# summarize AUC scores\n",
    "print('AUC (area under ROC):')\n",
    "print('Log. Regression: %.3f' % lr_auc)\n",
    "print('Decision tree:   %.3f' % dt_auc)\n",
    "print('Random foreset:  %.3f' % rf_auc)\n",
    "print('Neural net:      %.3f' % nn_auc)\n",
    "print('Baseline:        %.3f' % bl_auc)"
   ]
  },
  {
   "cell_type": "code",
   "execution_count": 40,
   "id": "8ed269fb-0e7e-4cd0-bd2b-98ad49bcb2f6",
   "metadata": {},
   "outputs": [
    {
     "data": {
      "image/png": "[encoded data removed]",
      "text/plain": [
       "<Figure size 648x576 with 1 Axes>"
      ]
     },
     "metadata": {
      "needs_background": "light"
     },
     "output_type": "display_data"
    }
   ],
   "source": [
    "# calculate ROC curves to plt\n",
    "bl_fpr, bl_tpr, _ = roc_curve(y_test, bl_probs)\n",
    "lr_fpr, lr_tpr, _ = roc_curve(y_test, lr_probs)\n",
    "dt_fpr, dt_tpr, _ = roc_curve(y_test, dt_probs)\n",
    "rf_fpr, rf_tpr, _ = roc_curve(y_test, rf_probs)\n",
    "nn_fpr, nn_tpr, _ = roc_curve(y_test, nn_probs)\n",
    "\n",
    "# set figure size and axis labels\n",
    "plt.rcParams[\"figure.figsize\"] = (9, 8)\n",
    "plt.xlabel('False Positive Rate', fontsize=16)\n",
    "plt.ylabel('True Positive Rate', fontsize=16)\n",
    "\n",
    "# plot the ROC curve for the models\n",
    "plt.plot(lr_fpr, lr_tpr, marker='^', label='LR')\n",
    "plt.plot(dt_fpr, dt_tpr, marker='d', label='DT')\n",
    "plt.plot(rf_fpr, rf_tpr, marker='o', label='RF')\n",
    "plt.plot(nn_fpr, nn_tpr, marker='v', label='NN')\n",
    "plt.plot(bl_fpr, bl_tpr, linestyle='--', label='baseline')\n",
    "\n",
    "# show the legend and then show the plot\n",
    "plt.legend(fontsize=14)\n",
    "plt.show()"
   ]
  },
  {
   "cell_type": "code",
   "execution_count": 41,
   "id": "29cc6007-2f3b-407b-b556-2154f6724700",
   "metadata": {},
   "outputs": [
    {
     "name": "stdout",
     "output_type": "stream",
     "text": [
      "Accuracy Score:\n",
      "Log. regression: 0.8625\n",
      "Decision Tree:   0.8875\n",
      "Random Forest:   0.9\n",
      "Neural Net       0.9125\n"
     ]
    }
   ],
   "source": [
    "print('Accuracy Score:')\n",
    "print('Log. regression:', lr_acc)\n",
    "print('Decision Tree:  ', dt_acc)\n",
    "print('Random Forest:  ', rf_acc)\n",
    "print('Neural Net      ', nn_acc)"
   ]
  },
  {
   "cell_type": "code",
   "execution_count": 42,
   "id": "58e3f98c-cbd7-4b82-b377-0b159f317b0d",
   "metadata": {},
   "outputs": [
    {
     "name": "stdout",
     "output_type": "stream",
     "text": [
      "F1-Score:\n",
      "Log. regression: 0.776\n",
      "Decision Tree:   0.836\n",
      "Random Forest:   0.857\n",
      "Neural Net:      0.877\n"
     ]
    }
   ],
   "source": [
    "print('F1-Score:')\n",
    "print('Log. regression:', lr_f1)\n",
    "print('Decision Tree:  ', dt_f1)\n",
    "print('Random Forest:  ', rf_f1)\n",
    "print('Neural Net:     ', nn_f1)"
   ]
  },
  {
   "cell_type": "markdown",
   "id": "4a9bcd07",
   "metadata": {},
   "source": [
    "## Summary\n",
    "<code>\n",
    "Accuracy Score:\n",
    "Log. regression: 0.8625\n",
    "Decision Tree: 0.8875\n",
    "Random Forest: 0.9\n",
    "Neural Net     0.9125\n",
    "\n",
    "F1-Score:\n",
    "Log. regression: 0.776\n",
    "Decision Tree: 0.836\n",
    "Random Forest: 0.857\n",
    "Neural Net:    0.877\n",
    "\n",
    "AUC (area under ROC):\n",
    "Log. Regression: 0.942\n",
    "Decision tree:  0.886\n",
    "Random foreset: 0.963\n",
    "Neural net:     0.973\n",
    "Baseline:       0.500"
   ]
  },
  {
   "cell_type": "raw",
   "id": "1d4c9c97",
   "metadata": {},
   "source": []
  }
 ],
 "metadata": {
  "kernelspec": {
   "display_name": "Python 3 (ipykernel)",
   "language": "python",
   "name": "python3"
  },
  "language_info": {
   "codemirror_mode": {
    "name": "ipython",
    "version": 3
   },
   "file_extension": ".py",
   "mimetype": "text/x-python",
   "name": "python",
   "nbconvert_exporter": "python",
   "pygments_lexer": "ipython3",
   "version": "3.8.10"
  }
 },
 "nbformat": 4,
 "nbformat_minor": 5
}
