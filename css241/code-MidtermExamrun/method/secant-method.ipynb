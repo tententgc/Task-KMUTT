{
 "cells": [
  {
   "cell_type": "code",
   "execution_count": 27,
   "id": "21626f65",
   "metadata": {},
   "outputs": [],
   "source": [
    "import numpy as np\n",
    "import matplotlib.pyplot as plt\n",
    "\n",
    "\n",
    "def secant(x0, x1, f, iteration=20):\n",
    "\n",
    "    i = 0\n",
    "    while np.sign(f(x0) - f(x1)) != 0 and i < iteration:\n",
    "        x = x1 - ((x0 - x1) / (f(x0) - f(x1)))*f(x1)\n",
    "        x0 = x1\n",
    "        x1 = x\n",
    "        print(f\"Iteration {i} - x = {x} - [ f(x0) - f(x1) ] = {f(x0) - f(x1)}\")\n",
    "        i += 1\n",
    "    return x\n",
    "\n",
    "\n",
    "def ShowGraph(x, f):\n",
    "    x_plot = np.linspace(x-2, x+2, 1000)\n",
    "    y_plot = f(x_plot)\n",
    "    fig = plt.figure()\n",
    "    plt.plot(x_plot, y_plot, c='blue')\n",
    "    plt.plot(x, f(x), c='red', marker='o', fillstyle='none')\n",
    "    plt.xlabel('x')\n",
    "    plt.ylabel('y')\n",
    "    plt.grid()\n",
    "    plt.show()\n"
   ]
  },
  {
   "cell_type": "code",
   "execution_count": 26,
   "id": "22019489",
   "metadata": {},
   "outputs": [
    {
     "name": "stdout",
     "output_type": "stream",
     "text": [
      "result = 0.0000\n"
     ]
    }
   ],
   "source": [
    "from numpy import log as ln\n",
    "def f(x): \n",
    "    p = 25000\n",
    "    r= 12\n",
    "    s= 250000\n",
    "    n = 21\n",
    "    return p*((1+(r/100))**n)*ln(1+(r/100))\n",
    "\n",
    "x = secant(15, 19, f=f)\n",
    "print(f\"result = {x:.4f}\")\n",
    "# ShowGraph(x, f)"
   ]
  },
  {
   "cell_type": "code",
   "execution_count": 39,
   "id": "2c5a7b2a",
   "metadata": {},
   "outputs": [
    {
     "ename": "UnboundLocalError",
     "evalue": "local variable 'x' referenced before assignment",
     "output_type": "error",
     "traceback": [
      "\u001b[0;31m---------------------------------------------------------------------------\u001b[0m",
      "\u001b[0;31mUnboundLocalError\u001b[0m                         Traceback (most recent call last)",
      "\u001b[1;32m/Users/tententgc/Documents/GitHub/comsci-path/csss241/code-MidtermExamrun/method/secant-method.ipynb Cell 3\u001b[0m in \u001b[0;36m<cell line: 6>\u001b[0;34m()\u001b[0m\n\u001b[1;32m      <a href='vscode-notebook-cell:/Users/tententgc/Documents/GitHub/comsci-path/csss241/code-MidtermExamrun/method/secant-method.ipynb#W2sZmlsZQ%3D%3D?line=1'>2</a>\u001b[0m \u001b[39mdef\u001b[39;00m \u001b[39mf\u001b[39m(x): \n\u001b[1;32m      <a href='vscode-notebook-cell:/Users/tententgc/Documents/GitHub/comsci-path/csss241/code-MidtermExamrun/method/secant-method.ipynb#W2sZmlsZQ%3D%3D?line=2'>3</a>\u001b[0m     \u001b[39mreturn\u001b[39;00m \u001b[39m25000\u001b[39m\u001b[39m*\u001b[39m((\u001b[39m1\u001b[39m\u001b[39m+\u001b[39m\u001b[39m12\u001b[39m\u001b[39m/\u001b[39m\u001b[39m100\u001b[39m)\u001b[39m*\u001b[39m\u001b[39m*\u001b[39m\u001b[39m12\u001b[39m)\u001b[39m-\u001b[39m\u001b[39m250000\u001b[39m\n\u001b[0;32m----> <a href='vscode-notebook-cell:/Users/tententgc/Documents/GitHub/comsci-path/csss241/code-MidtermExamrun/method/secant-method.ipynb#W2sZmlsZQ%3D%3D?line=5'>6</a>\u001b[0m x \u001b[39m=\u001b[39m secant(\u001b[39m15\u001b[39;49m, \u001b[39m19\u001b[39;49m, f)\n\u001b[1;32m      <a href='vscode-notebook-cell:/Users/tententgc/Documents/GitHub/comsci-path/csss241/code-MidtermExamrun/method/secant-method.ipynb#W2sZmlsZQ%3D%3D?line=6'>7</a>\u001b[0m \u001b[39mprint\u001b[39m(\u001b[39mf\u001b[39m\u001b[39m\"\u001b[39m\u001b[39mresult = \u001b[39m\u001b[39m{\u001b[39;00mx\u001b[39m:\u001b[39;00m\u001b[39m.4f\u001b[39m\u001b[39m}\u001b[39;00m\u001b[39m\"\u001b[39m)\n\u001b[1;32m      <a href='vscode-notebook-cell:/Users/tententgc/Documents/GitHub/comsci-path/csss241/code-MidtermExamrun/method/secant-method.ipynb#W2sZmlsZQ%3D%3D?line=7'>8</a>\u001b[0m ShowGraph(x, f)\n",
      "\u001b[1;32m/Users/tententgc/Documents/GitHub/comsci-path/csss241/code-MidtermExamrun/method/secant-method.ipynb Cell 3\u001b[0m in \u001b[0;36msecant\u001b[0;34m(x0, x1, f, iteration)\u001b[0m\n\u001b[1;32m     <a href='vscode-notebook-cell:/Users/tententgc/Documents/GitHub/comsci-path/csss241/code-MidtermExamrun/method/secant-method.ipynb#W2sZmlsZQ%3D%3D?line=11'>12</a>\u001b[0m     \u001b[39mprint\u001b[39m(\u001b[39mf\u001b[39m\u001b[39m\"\u001b[39m\u001b[39mIteration \u001b[39m\u001b[39m{\u001b[39;00mi\u001b[39m}\u001b[39;00m\u001b[39m - x = \u001b[39m\u001b[39m{\u001b[39;00mx\u001b[39m}\u001b[39;00m\u001b[39m - [ f(x0) - f(x1) ] = \u001b[39m\u001b[39m{\u001b[39;00mf(x0) \u001b[39m-\u001b[39m f(x1)\u001b[39m}\u001b[39;00m\u001b[39m\"\u001b[39m)\n\u001b[1;32m     <a href='vscode-notebook-cell:/Users/tententgc/Documents/GitHub/comsci-path/csss241/code-MidtermExamrun/method/secant-method.ipynb#W2sZmlsZQ%3D%3D?line=12'>13</a>\u001b[0m     i \u001b[39m+\u001b[39m\u001b[39m=\u001b[39m \u001b[39m1\u001b[39m\n\u001b[0;32m---> <a href='vscode-notebook-cell:/Users/tententgc/Documents/GitHub/comsci-path/csss241/code-MidtermExamrun/method/secant-method.ipynb#W2sZmlsZQ%3D%3D?line=13'>14</a>\u001b[0m \u001b[39mreturn\u001b[39;00m x\n",
      "\u001b[0;31mUnboundLocalError\u001b[0m: local variable 'x' referenced before assignment"
     ]
    }
   ],
   "source": [
    "from numpy import log as ln\n",
    "def f(x): \n",
    "    return 25000*((1+12/100)**12)-250000\n",
    "\n",
    "\n",
    "x = secant(15, 19, f)\n",
    "print(f\"result = {x:.4f}\")\n",
    "ShowGraph(x, f)\n"
   ]
  },
  {
   "cell_type": "code",
   "execution_count": null,
   "id": "33f76f06",
   "metadata": {},
   "outputs": [],
   "source": []
  }
 ],
 "metadata": {
  "kernelspec": {
   "display_name": "Python 3.9.5 64-bit",
   "language": "python",
   "name": "python3"
  },
  "language_info": {
   "codemirror_mode": {
    "name": "ipython",
    "version": 3
   },
   "file_extension": ".py",
   "mimetype": "text/x-python",
   "name": "python",
   "nbconvert_exporter": "python",
   "pygments_lexer": "ipython3",
   "version": "3.10.5"
  },
  "vscode": {
   "interpreter": {
    "hash": "aee8b7b246df8f9039afb4144a1f6fd8d2ca17a180786b69acc140d282b71a49"
   }
  }
 },
 "nbformat": 4,
 "nbformat_minor": 5
}
