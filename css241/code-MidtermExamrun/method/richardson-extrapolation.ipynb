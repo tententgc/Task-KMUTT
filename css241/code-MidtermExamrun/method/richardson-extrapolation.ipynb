{
 "cells": [
  {
   "cell_type": "code",
   "execution_count": 5,
   "id": "10f9116d",
   "metadata": {},
   "outputs": [
    {
     "name": "stdout",
     "output_type": "stream",
     "text": [
      "[[3591.2109375     0.            0.        ]\n",
      " [3204.99755859 3076.25976562    0.        ]\n",
      " [   0.            0.            0.        ]]\n",
      "------------------------------\n",
      "[[3591.2109375     0.            0.        ]\n",
      " [3204.99755859 3076.25976562    0.        ]\n",
      " [3109.66781616 3077.89123535    0.        ]]\n",
      "------------------------------\n",
      "[[3591.2109375     0.            0.        ]\n",
      " [3204.99755859 3076.25976562    0.        ]\n",
      " [3109.66781616 3077.89123535 3078.        ]]\n",
      "------------------------------\n",
      "[[3591.2109375     0.            0.        ]\n",
      " [3204.99755859 3076.25976562    0.        ]\n",
      " [3109.66781616 3077.89123535 3078.        ]]\n"
     ]
    }
   ],
   "source": [
    "import numpy as np\n",
    "\n",
    "def f(x): return x**6 + 4*x**5\n",
    "\n",
    "def RichardSon(x0, h, n):\n",
    "    d = np.zeros([n+1, n+1])\n",
    "    for i in range(0, n+1):\n",
    "        d[i][0] = (f(x0+h)-f(x0-h)) / (2*h)\n",
    "        for j in range(1, i+1):\n",
    "            d[i][j] = d[i][j-1] + ((d[i][j-1] - d[i-1][j-1]) / (4**j-1))\n",
    "            print(d)\n",
    "            print(\"-\"*30)\n",
    "        h /= 2\n",
    "    return d\n",
    "        \n",
    "print(RichardSon(3, .75, 2))\n"
   ]
  }
 ],
 "metadata": {
  "kernelspec": {
   "display_name": "Python 3.9.5 64-bit",
   "language": "python",
   "name": "python3"
  },
  "language_info": {
   "codemirror_mode": {
    "name": "ipython",
    "version": 3
   },
   "file_extension": ".py",
   "mimetype": "text/x-python",
   "name": "python",
   "nbconvert_exporter": "python",
   "pygments_lexer": "ipython3",
   "version": "3.10.5"
  },
  "vscode": {
   "interpreter": {
    "hash": "aee8b7b246df8f9039afb4144a1f6fd8d2ca17a180786b69acc140d282b71a49"
   }
  }
 },
 "nbformat": 4,
 "nbformat_minor": 5
}
