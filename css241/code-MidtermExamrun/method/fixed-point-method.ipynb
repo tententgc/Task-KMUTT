{
 "cells": [
  {
   "cell_type": "code",
   "execution_count": 47,
   "metadata": {},
   "outputs": [
    {
     "name": "stdout",
     "output_type": "stream",
     "text": [
      "0 - 0.92800\n",
      "1 - -0.27282\n",
      "2 - -2.29313\n",
      "3 - -16.35139\n",
      "4 - -4390.18931\n"
     ]
    }
   ],
   "source": [
    "import math\n",
    "\n",
    "def f(x): return x**3  - 2\n",
    "\n",
    "def g(x): return x**3 + x - 2\n",
    "\n",
    "\n",
    "def fixedPoint(x0, iteration=5):\n",
    "    i = 0\n",
    "    while i < iteration:\n",
    "        x1 = g(x0)\n",
    "        print(f\"{i} - {x1:.5f}\")\n",
    "        x0 = x1\n",
    "        i += 1\n",
    "\n",
    "\n",
    "\n",
    "fixedPoint(1.2)"
   ]
  }
 ],
 "metadata": {
  "kernelspec": {
   "display_name": "Python 3.9.5 64-bit",
   "language": "python",
   "name": "python3"
  },
  "language_info": {
   "codemirror_mode": {
    "name": "ipython",
    "version": 3
   },
   "file_extension": ".py",
   "mimetype": "text/x-python",
   "name": "python",
   "nbconvert_exporter": "python",
   "pygments_lexer": "ipython3",
   "version": "3.9.5"
  },
  "orig_nbformat": 4,
  "vscode": {
   "interpreter": {
    "hash": "aee8b7b246df8f9039afb4144a1f6fd8d2ca17a180786b69acc140d282b71a49"
   }
  }
 },
 "nbformat": 4,
 "nbformat_minor": 2
}
