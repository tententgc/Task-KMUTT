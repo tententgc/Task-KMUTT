{
 "cells": [
  {
   "cell_type": "code",
   "execution_count": 1,
   "metadata": {},
   "outputs": [],
   "source": [
    "import numpy as np"
   ]
  },
  {
   "cell_type": "code",
   "execution_count": 18,
   "metadata": {},
   "outputs": [],
   "source": [
    "# 3 root found. 0.347, -1.879, and 1.532\n",
    "def original_eq(x): return x**3 - 3*x + 1\n",
    "def first_deriv_eq(x): return 3*x**2 - 3\n",
    "\n",
    "\n",
    "def should_stop(x_, x, eps): return True if abs(original_eq(x_)) + abs(x_-x) < eps \\\n",
    "    else False\n"
   ]
  },
  {
   "cell_type": "markdown",
   "metadata": {},
   "source": [
    "Newton Rhapson\n"
   ]
  },
  {
   "cell_type": "code",
   "execution_count": 6,
   "metadata": {},
   "outputs": [
    {
     "name": "stdout",
     "output_type": "stream",
     "text": [
      "0 2.638095238095236\n",
      "1 1.9979088997504912\n",
      "2 1.665738100120937\n",
      "3 1.548406077463979\n",
      "4 1.5323828383309899\n",
      "5 1.5320889844442256\n",
      "1.5320889844442256\n"
     ]
    }
   ],
   "source": [
    "x = 1.1\n",
    "for i in range(100):\n",
    "    x_ = x - original_eq(x)/first_deriv_eq(x)\n",
    "    if should_stop(x_, x, 1e-4):\n",
    "        break\n",
    "    x = x_\n",
    "    print(i, x)\n",
    "\n",
    "print(x)\n"
   ]
  },
  {
   "cell_type": "markdown",
   "metadata": {},
   "source": [
    "Secant"
   ]
  },
  {
   "cell_type": "code",
   "execution_count": 21,
   "metadata": {},
   "outputs": [
    {
     "name": "stdout",
     "output_type": "stream",
     "text": [
      "0 15 19 6803\n",
      "1 19 11.162442396313363 1358.354337686722\n",
      "2 11.162442396313363 9.207093778950075 753.8693602500381\n",
      "3 9.207093778950075 6.768526293802175 290.7805655384702\n",
      "4 6.768526293802175 5.2373123224585525 128.94460904378155\n",
      "5 5.2373123224585525 4.017300458755325 53.78211749259627\n",
      "6 4.017300458755325 3.144327516508394 22.65434068891624\n",
      "7 3.144327516508394 2.5089905770733387 9.267208544188549\n",
      "8 2.5089905770733387 2.0691801793034204 3.6516680862085122\n",
      "9 2.0691801793034204 1.7831807095218792 1.3204972080764446\n",
      "10 1.7831807095218792 1.621175639494373 0.3972638451520156\n",
      "11 1.621175639494373 1.551465466922851 0.08005094153397652\n",
      "12 1.551465466922851 1.5338736070546102 0.007228289398507837\n",
      "13 1.5338736070546102 1.532127460073461 0.00015591800299086245\n",
      "14 1.532127460073461 1.5320889643928746 3.158935388825057e-07\n",
      "15 1.5320889643928746 1.5320888862413842 1.3856027436531804e-11\n",
      "converged 15 1.5320888862413842 1.532088886237956\n",
      "15 1.5320889643928746 1.532088886237956 -4.440892098500626e-16\n"
     ]
    }
   ],
   "source": [
    "xold = 15\n",
    "x = 19\n",
    "def original_eq(x): return 25000*((1+12/100)**12)-250000\n",
    "if xold == x:\n",
    "    print(\"Choose xold not eq x\")\n",
    "    \n",
    "for i in range(100):\n",
    "    print(i,xold,x,original_eq(x))\n",
    "    x_ = x - original_eq(x)*(x-xold)/(original_eq(x) - original_eq(xold))    \n",
    "    if abs(x_ - x) < 1e-9:\n",
    "        print('converged',i,x,x_)\n",
    "        x = x_\n",
    "        break\n",
    "    xold = x\n",
    "    x = x_\n",
    "    \n",
    "    \n",
    "print(i,xold,x,original_eq(x))"
   ]
  },
  {
   "cell_type": "markdown",
   "metadata": {},
   "source": [
    "Bisection\n"
   ]
  },
  {
   "cell_type": "code",
   "execution_count": 15,
   "metadata": {},
   "outputs": [
    {
     "name": "stdout",
     "output_type": "stream",
     "text": [
      "0 1.38 0.18000000000000005 -0.09560000000000035\n",
      "1 1.47 0.09000000000000002 0.16089999999999982\n",
      "2 1.4249999999999998 0.04500000000000001 0.03062499999999968\n",
      "3 1.4024999999999999 0.022500000000000006 -0.03299375000000038\n",
      "4 1.4137499999999998 0.011250000000000003 -0.001310937500000442\n",
      "5 1.4193749999999998 0.0056250000000000015 0.014625390624999568\n",
      "6 1.4165625 0.0028125000000000008 0.006649316406249994\n",
      "7 1.41515625 0.0014062500000000004 0.002667211914062051\n",
      "8 1.4144531249999999 0.0007031250000000002 0.0006776428222652342\n",
      "9 1.4141015624999997 0.0003515625000000001 -0.0003167709350593295\n",
      "10 1.4142773437499998 0.00017578125000000005 0.00018040504455507644\n",
      "11 1.4141894531249997 8.789062500000002e-05 -6.819067001440082e-05\n",
      "12 1.4142333984374997 4.394531250000001e-05 5.610525607968597e-05\n",
      "13 1.4142114257812497 2.1972656250000006e-05 -6.043189764826096e-06\n",
      "14 1.4142224121093747 1.0986328125000003e-05 2.503091245831257e-05\n",
      "15 1.4142169189453122 5.4931640625000015e-06 9.493831171880629e-06\n",
      "16 1.4142141723632808 2.7465820312500007e-06 1.725313159450792e-06\n",
      "17 1.4142127990722653 1.3732910156250004e-06 -2.1589401886235038e-06\n",
      "18 1.414213485717773 6.866455078125002e-07 -2.1681398609807445e-07\n",
      "19 1.414213829040527 3.433227539062501e-07 7.542494691037405e-07\n",
      "20 1.41421365737915 1.7166137695312505e-07 2.6871771163783364e-07\n",
      "converged\n",
      "1.4142135715484616\n"
     ]
    }
   ],
   "source": [
    "xa = 1.2\n",
    "xb = 1.56\n",
    "xc = 0\n",
    "epsilon = 1e-7\n",
    "\n",
    "\n",
    "def is_same_sign(a, b): return np.sign(\n",
    "    original_eq(a)) == np.sign(original_eq(b))\n",
    "\n",
    "\n",
    "if xa >= xb:\n",
    "    print('a must < b')\n",
    "elif is_same_sign(xa, xb):\n",
    "    print(\"Please choose new xa,xb\")\n",
    "else:\n",
    "    err = xb - xa\n",
    "    for i in range(100):\n",
    "        err /= 2\n",
    "        xc = xa + err\n",
    "        if err < epsilon:\n",
    "            print('converged')\n",
    "            break\n",
    "        if is_same_sign(xa, xc):\n",
    "            xa = xc\n",
    "        else:\n",
    "            xb = xc\n",
    "        print(i, xc, err, original_eq(xc))\n",
    "print(xc)\n"
   ]
  },
  {
   "cell_type": "markdown",
   "metadata": {},
   "source": [
    "False Position method"
   ]
  },
  {
   "cell_type": "code",
   "execution_count": 19,
   "metadata": {},
   "outputs": [
    {
     "name": "stdout",
     "output_type": "stream",
     "text": [
      "0 0.8876404494382022 0.6499999999999999 -0.963544496282815\n",
      "1 0.4317039323906237 0.32499999999999996 -0.21465587556020593\n",
      "2 0.35394306181191354 0.16249999999999998 -0.017488723790901384\n",
      "3 0.34776183736177607 0.08124999999999999 -0.001227788226069837\n",
      "4 0.3473286459217867 0.040624999999999994 -8.518651299849189e-05\n",
      "5 0.34729859384635275 0.020312499999999997 -5.905539324890796e-06\n",
      "6 0.34729651050930893 0.010156249999999999 -4.0937697209919577e-07\n",
      "7 0.3472963660907104 0.005078124999999999 -2.8378244421034537e-08\n",
      "8 0.34729635607953147 0.0025390624999999997 -1.967195517593723e-09\n",
      "9 0.34729635538555104 0.0012695312499999998 -1.363671398024735e-10\n",
      "10 0.3472963553374439 0.0006347656249999999 -9.453104965473358e-12\n",
      "11 0.3472963553341091 0.00031738281249999996 -6.552536291337674e-13\n",
      "12 0.3472963553338779 0.00015869140624999998 -4.551914400963142e-14\n",
      "13 0.3472963553338619 7.934570312499999e-05 -3.1086244689504383e-15\n",
      "14 0.3472963553338608 3.9672851562499995e-05 -2.220446049250313e-16\n",
      "15 0.3472963553338607 1.9836425781249997e-05 -2.220446049250313e-16\n",
      "16 0.34729635533386066 9.918212890624999e-06 0.0\n",
      "17 0.34729635533386066 4.959106445312499e-06 0.0\n",
      "18 0.34729635533386066 2.4795532226562497e-06 0.0\n",
      "19 0.34729635533386066 1.2397766113281248e-06 0.0\n",
      "20 0.34729635533386066 6.198883056640624e-07 0.0\n",
      "21 0.34729635533386066 3.099441528320312e-07 0.0\n",
      "22 0.34729635533386066 1.549720764160156e-07 0.0\n",
      "converged\n",
      "0.34729635533386066\n"
     ]
    }
   ],
   "source": [
    "xa = 0.1\n",
    "xb = 1.4\n",
    "xc = 0\n",
    "epsilon = 1e-7\n",
    "\n",
    "\n",
    "def false_position(a, b): \n",
    "    return (a*original_eq(b) - b *original_eq(a))/(original_eq(b) - original_eq(a))\n",
    "\n",
    "\n",
    "if xa >= xb:\n",
    "    print('a must < b')\n",
    "elif is_same_sign(xa, xb):\n",
    "    print(\"Please choose new xa,xb\")\n",
    "else:\n",
    "    err = xb - xa\n",
    "    for i in range(100):\n",
    "        err /= 2\n",
    "        xc = false_position(xa, xb)\n",
    "        if err < epsilon:\n",
    "            print('converged')\n",
    "            break\n",
    "        if is_same_sign(xa, xc):\n",
    "            xa = xc\n",
    "        else:\n",
    "            xb = xc\n",
    "        print(i, xc, err, original_eq(xc))\n",
    "print(xc)\n"
   ]
  },
  {
   "cell_type": "code",
   "execution_count": 7,
   "metadata": {},
   "outputs": [
    {
     "data": {
      "text/plain": [
       "[<matplotlib.lines.Line2D at 0x126ea27a0>]"
      ]
     },
     "execution_count": 7,
     "metadata": {},
     "output_type": "execute_result"
    },
    {
     "data": {
      "image/png": "[encoded data removed]",
      "text/plain": [
       "<Figure size 640x480 with 1 Axes>"
      ]
     },
     "metadata": {},
     "output_type": "display_data"
    }
   ],
   "source": [
    "import matplotlib.pyplot as plt\n",
    "import numpy as np\n",
    "\n",
    "x = np.arange(-3,3,0.01)\n",
    "y = original_eq(x)\n",
    "z = np.zeros_like(x)\n",
    "plt.plot(x, y, 'red')\n",
    "plt.plot(x,z,'blue')"
   ]
  },
  {
   "cell_type": "markdown",
   "metadata": {},
   "source": [
    "System of Nonlinear equation with Newton's method"
   ]
  },
  {
   "cell_type": "code",
   "execution_count": 8,
   "metadata": {},
   "outputs": [
    {
     "name": "stdout",
     "output_type": "stream",
     "text": [
      "0 [0.00339806 0.87834204 2.1182599 ]\n",
      "1 [0.00298539 0.98329528 2.01371934]\n",
      "2 [0.0023541  0.99517524 2.00247067]\n",
      "3 [1.19978652e-03 9.97600332e-01 2.00119988e+00]\n",
      "4 [5.99888250e-04 9.98800223e-01 2.00059989e+00]\n",
      "5 [2.99938158e-04 9.99400124e-01 2.00029994e+00]\n",
      "6 [1.49967583e-04 9.99700065e-01 2.00014997e+00]\n",
      "7 [7.49834168e-05 9.99850033e-01 2.00007498e+00]\n",
      "8 [3.74916143e-05 9.99925017e-01 2.00003749e+00]\n",
      "9 [1.87457838e-05 9.99962508e-01 2.00001875e+00]\n"
     ]
    }
   ],
   "source": [
    "x = np.array([0.1, 1.2, 2.5],dtype=np.float64)\n",
    "#x = np.array([1.,0.,1.], dtype = np.float64)\n",
    "\n",
    "for k in range(10):\n",
    "    F = np.array([ np.sum(x)-3, np.sum(np.multiply(x,x))-5, np.exp(x[0])+x[0]*x[1] -x[0]*x[2]-1 ],dtype=np.float64)\n",
    "    J = np.array([[1,1,1],[2*x[0],2*x[1],2*x[2]],[np.exp(x[0])+x[1]-x[2], x[0], -x[0]]], dtype=np.float64)\n",
    "    H = np.dot(np.linalg.inv(J), F) \n",
    "    x -= H\n",
    "    print(k,x)"
   ]
  },
  {
   "cell_type": "code",
   "execution_count": 9,
   "metadata": {},
   "outputs": [
    {
     "data": {
      "text/plain": [
       "True"
      ]
     },
     "execution_count": 9,
     "metadata": {},
     "output_type": "execute_result"
    }
   ],
   "source": [
    "a = np.array([-4, 3])\n",
    "np.all(a <= 3)\n"
   ]
  },
  {
   "cell_type": "code",
   "execution_count": 10,
   "metadata": {},
   "outputs": [],
   "source": [
    "def should_multi_stop(F, xnew, xold, eps):\n",
    "    return np.all(np.absolute(F) + np.absolute(xnew - xold) <= eps)\n"
   ]
  },
  {
   "cell_type": "code",
   "execution_count": 11,
   "metadata": {},
   "outputs": [
    {
     "name": "stdout",
     "output_type": "stream",
     "text": [
      "0 [ 1.47151776 -0.5         2.02848224]\n",
      "1 [ 1.27321519 -0.15374491  1.88052972]\n",
      "2 [ 1.22660403 -0.0953158   1.86871177]\n",
      "3 [ 1.22439945 -0.09313727  1.86873782]\n",
      "4 [ 1.22439432 -0.09313314  1.86873882]\n"
     ]
    }
   ],
   "source": [
    "#x = np.array([0.1, 1.2, 2.5],dtype=np.float64)\n",
    "x = np.array([1.,0.,1.], dtype = np.float64)\n",
    "\n",
    "for k in range(100):\n",
    "    F = np.array([ np.sum(x)-3, np.sum(np.multiply(x,x))-5, np.exp(x[0])+x[0]*x[1] -x[0]*x[2]-1 ],dtype=np.float64)\n",
    "    J = np.array([[1,1,1],[2*x[0],2*x[1],2*x[2]],[np.exp(x[0])+x[1]-x[2], x[0], -x[0]]], dtype=np.float64)\n",
    "    H = np.dot(np.linalg.inv(J), F) \n",
    "    x_ = x - H\n",
    "    if should_multi_stop(F,x_,x,1e-9):\n",
    "        break\n",
    "    x = x_\n",
    "    print(k,x)"
   ]
  },
  {
   "cell_type": "markdown",
   "metadata": {},
   "source": [
    "Find Square root"
   ]
  },
  {
   "cell_type": "markdown",
   "metadata": {},
   "source": [
    "x^2-a =0"
   ]
  },
  {
   "cell_type": "code",
   "execution_count": 12,
   "metadata": {},
   "outputs": [],
   "source": [
    "SqRootOf = 2\n",
    "def original_eq(x): return x**2-SqRootOf\n",
    "\n",
    "\n",
    "def first_deriv_eq(x): return 2*x\n"
   ]
  },
  {
   "cell_type": "markdown",
   "metadata": {},
   "source": [
    "Newton Raphson"
   ]
  },
  {
   "cell_type": "code",
   "execution_count": 13,
   "metadata": {},
   "outputs": [
    {
     "name": "stdout",
     "output_type": "stream",
     "text": [
      "0 1.459090909090909\n",
      "1 1.414903709997168\n",
      "2 1.4142137306897584\n",
      "3 1.4142135623731051\n",
      "1.4142135623731051\n"
     ]
    }
   ],
   "source": [
    "x = 1.1  # Two root found. 1, and 1.5\n",
    "for i in range(100):\n",
    "    x_ = x - original_eq(x)/first_deriv_eq(x)\n",
    "    if should_stop(x_, x, 1e-9):\n",
    "        break\n",
    "    x = x_\n",
    "    print(i, x)\n",
    "\n",
    "print(x)\n"
   ]
  }
 ],
 "metadata": {
  "kernelspec": {
   "display_name": "Python 3.10.5 64-bit",
   "language": "python",
   "name": "python3"
  },
  "language_info": {
   "codemirror_mode": {
    "name": "ipython",
    "version": 3
   },
   "file_extension": ".py",
   "mimetype": "text/x-python",
   "name": "python",
   "nbconvert_exporter": "python",
   "pygments_lexer": "ipython3",
   "version": "3.10.5"
  },
  "orig_nbformat": 4,
  "vscode": {
   "interpreter": {
    "hash": "aee8b7b246df8f9039afb4144a1f6fd8d2ca17a180786b69acc140d282b71a49"
   }
  }
 },
 "nbformat": 4,
 "nbformat_minor": 2
}
