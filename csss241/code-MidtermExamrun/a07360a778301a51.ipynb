{
  "cells": [
    {
      "cell_type": "markdown",
      "metadata": {
        "id": "jr8MQKEblUol"
      },
      "source": [
        "## Bisection method"
      ]
    },
    {
      "cell_type": "code",
      "execution_count": 1,
      "metadata": {
        "id": "Ys4uJfW1m6ww"
      },
      "outputs": [],
      "source": [
        "import numpy as np"
      ]
    },
    {
      "cell_type": "code",
      "execution_count": 2,
      "metadata": {
        "id": "Pd-uhRkLa5hB"
      },
      "outputs": [],
      "source": [
        "def bisect(func, low, high, N, tolerance=None):\n",
        "    assert not (func(low) * func(high))  > 0 \n",
        "    for i in range(N):\n",
        "        midpoint = (low + high) / 2.0\n",
        "        print(midpoint)\n",
        "        if (func(low) * func(midpoint))>0:\n",
        "            low = midpoint\n",
        "        else:\n",
        "            high = midpoint\n",
        "        if tolerance is not None and abs(high - low) < tolerance:\n",
        "            break   \n",
        "    return midpoint"
      ]
    },
    {
      "cell_type": "code",
      "execution_count": 3,
      "metadata": {
        "colab": {
          "base_uri": "https://localhost:8080/"
        },
        "id": "ReEO0TlWlNFG",
        "outputId": "f79145d7-bf96-45a1-c5d2-4c4524feb5ba"
      },
      "outputs": [
        {
          "name": "stdout",
          "output_type": "stream",
          "text": [
            "2.0\n",
            "1.5\n",
            "1.75\n",
            "1.625\n",
            "1.5625\n",
            "1.53125\n",
            "1.546875\n",
            "1.5390625\n"
          ]
        },
        {
          "data": {
            "text/plain": [
              "1.5390625"
            ]
          },
          "execution_count": 3,
          "metadata": {},
          "output_type": "execute_result"
        }
      ],
      "source": [
        "f = lambda x: x**3 -3*x + 1\n",
        "a = 1\n",
        "b = 3\n",
        "N = 8\n",
        "tol = 1e-6\n",
        "bisect(f, a, b, N, tol)"
      ]
    },
    {
      "cell_type": "markdown",
      "metadata": {
        "id": "_ClGoIISm9Xq"
      },
      "source": [
        "## False Position Method"
      ]
    },
    {
      "cell_type": "code",
      "execution_count": 29,
      "metadata": {
        "id": "JRN2sHy2sq_p"
      },
      "outputs": [],
      "source": [
        "# Implementing False Position Method\n",
        "def falsePosition(f, x0, x1, e):\n",
        "    # Checking Correctness of initial guess values and false positioning\n",
        "    if f(x0) * f(x1) > 0.0:\n",
        "        print('Given guess values do not bracket the root.')\n",
        "        exit(0)\n",
        "    step = 1\n",
        "    print('\\n\\n*** FALSE POSITION METHOD IMPLEMENTATION ***')\n",
        "    condition = True\n",
        "    while condition:\n",
        "        x2 = x0 - (x1-x0) * f(x0)/( f(x1) - f(x0) )\n",
        "        print('Iteration-%d, x2 = %0.6f and f(x2) = %0.6f' % (step, x2, f(x2)))\n",
        "\n",
        "        if f(x0) * f(x2) < 0:\n",
        "            x1 = x2\n",
        "        else:\n",
        "            x0 = x2\n",
        "\n",
        "        step = step + 1\n",
        "        condition = abs(f(x2)) > e\n",
        "\n",
        "    print('\\nRequired root is: %0.8f' % x2)"
      ]
    },
    {
      "cell_type": "code",
      "execution_count": 30,
      "metadata": {
        "colab": {
          "base_uri": "https://localhost:8080/"
        },
        "id": "ecmLuZJfssf9",
        "outputId": "0932b691-d969-41ec-c92c-2beee36b763f"
      },
      "outputs": [
        {
          "name": "stdout",
          "output_type": "stream",
          "text": [
            "\n",
            "\n",
            "*** FALSE POSITION METHOD IMPLEMENTATION ***\n",
            "Iteration-1, x2 = 2.785714 and f(x2) = -1.310860\n",
            "Iteration-2, x2 = 2.850875 and f(x2) = -0.083923\n",
            "Iteration-3, x2 = 2.854933 and f(x2) = -0.005125\n",
            "Iteration-4, x2 = 2.855180 and f(x2) = -0.000312\n",
            "Iteration-5, x2 = 2.855196 and f(x2) = -0.000019\n",
            "Iteration-6, x2 = 2.855196 and f(x2) = -0.000001\n",
            "Iteration-7, x2 = 2.855197 and f(x2) = -0.000000\n",
            "\n",
            "Required root is: 2.85519654\n"
          ]
        }
      ],
      "source": [
        "f = lambda x : x**3-5*x-9\n",
        "x0 = 2\n",
        "x1 = 3\n",
        "tol = 1e-6\n",
        "falsePosition(f, x0, x1, tol)"
      ]
    },
    {
      "cell_type": "markdown",
      "metadata": {
        "id": "UgYPup-Srdse"
      },
      "source": [
        "## Newton Raphson method"
      ]
    },
    {
      "cell_type": "code",
      "execution_count": 24,
      "metadata": {
        "id": "3N6dpZtCl6NG"
      },
      "outputs": [],
      "source": [
        "def my_newton(f, df, x0, tol):\n",
        "    if abs(f(x0)) < tol:\n",
        "        return x0\n",
        "    else:\n",
        "        return my_newton(f, df, x0 - f(x0)/df(x0), tol)"
      ]
    },
    {
      "cell_type": "code",
      "execution_count": 27,
      "metadata": {
        "colab": {
          "base_uri": "https://localhost:8080/"
        },
        "id": "QgCxw1DZrl8b",
        "outputId": "b9ce57af-8cea-434d-a3f2-b16f088e2a82"
      },
      "outputs": [
        {
          "data": {
            "text/plain": [
              "1.4142135623746899"
            ]
          },
          "execution_count": 27,
          "metadata": {},
          "output_type": "execute_result"
        }
      ],
      "source": [
        "f = lambda x : x**2 -2 \n",
        "df = lambda x: 2*x\n",
        "x0 = 1.5\n",
        "tol = 1e-6\n",
        "my_newton(f, df, x0, tol)"
      ]
    },
    {
      "cell_type": "markdown",
      "metadata": {
        "id": "pV0d0qdPt7vf"
      },
      "source": [
        "## Secant method"
      ]
    },
    {
      "cell_type": "code",
      "execution_count": 32,
      "metadata": {
        "id": "AMf-_xb0uEKW"
      },
      "outputs": [],
      "source": [
        "def secant(f, fprime, x0, x1, N): \n",
        "    step = 1\n",
        "    condition = True\n",
        "    while condition:\n",
        "        if f(x0) == f(x1):\n",
        "            break\n",
        "        x2 = x0 - (x1-x0)*f(x0)/( f(x1) - f(x0) ) \n",
        "        x0 = x1\n",
        "        x1 = x2\n",
        "        step = step + 1\n",
        "        if step > N:\n",
        "            break\n",
        "        condition = abs(f(x2)) > 1e-4\n",
        "    return x2"
      ]
    },
    {
      "cell_type": "code",
      "execution_count": 33,
      "metadata": {
        "colab": {
          "base_uri": "https://localhost:8080/"
        },
        "id": "fF6uDauRuEzh",
        "outputId": "e4be5be6-523e-469a-8a52-fa9bbf60dac9"
      },
      "outputs": [
        {
          "data": {
            "text/plain": [
              "0.3472910976345784"
            ]
          },
          "execution_count": 33,
          "metadata": {},
          "output_type": "execute_result"
        }
      ],
      "source": [
        "f = lambda x: x**3 - 3*x +1 \n",
        "fprime = lambda x: 3*x**2 - 3\n",
        "x0 = 0.4\n",
        "x1 = 1\n",
        "N = 1000\n",
        "secant(f,df,x0,x1, N)"
      ]
    },
    {
      "cell_type": "code",
      "execution_count": null,
      "metadata": {
        "id": "0WTq653-2tSJ"
      },
      "outputs": [],
      "source": []
    },
    {
      "cell_type": "markdown",
      "metadata": {
        "id": "c1xQatO8u-Iq"
      },
      "source": [
        "## newton and Larange"
      ]
    },
    {
      "cell_type": "code",
      "execution_count": 35,
      "metadata": {
        "id": "Ycb5az1IvChM"
      },
      "outputs": [],
      "source": [
        "def findA(x, y):\n",
        "    m = len(x)\n",
        "    x = np.copy(x)\n",
        "    a = np.copy(y)\n",
        "    for k in range(1, m):\n",
        "        a[k:m] = (a[k:m] - a[k - 1])/(x[k:m] - x[k - 1])\n",
        "    return a\n",
        "    \n",
        "def newton(x, x_data, y_data):\n",
        "    a = findA(x_data, y_data)\n",
        "    n = len(x_data) - 1 \n",
        "    p = a[n]\n",
        "    for k in range(1, n + 1):\n",
        "        p = a[n - k] + (x - x_data[n - k])*p\n",
        "    return p"
      ]
    },
    {
      "cell_type": "code",
      "execution_count": 36,
      "metadata": {
        "colab": {
          "base_uri": "https://localhost:8080/"
        },
        "id": "n4pBoFalvDe4",
        "outputId": "3ffdd90c-c921-4627-ce6e-67a9b231ca5c"
      },
      "outputs": [
        {
          "data": {
            "text/plain": [
              "12"
            ]
          },
          "execution_count": 36,
          "metadata": {},
          "output_type": "execute_result"
        }
      ],
      "source": [
        "newton(-1, (1,2,3,-4,5), (2,48,272,1182,2262))"
      ]
    },
    {
      "cell_type": "code",
      "execution_count": 39,
      "metadata": {
        "id": "mH8mjo5OvOVn"
      },
      "outputs": [],
      "source": [
        "from math import *\n",
        "\n",
        "def product(a):\n",
        "    p = 1\n",
        "    for i in a:p*=i\n",
        "    return p\n",
        "def Lagrange(x,a,fa):\n",
        "    r = range(len(fa))\n",
        "    a0 = [fa[i]/product(a[i]-a[j]for j in r if j!=i)for i in r]\n",
        "    return sum(a0[i]*product([x-a[j]for j in r if j!=i])for i in r)"
      ]
    },
    {
      "cell_type": "code",
      "execution_count": 38,
      "metadata": {
        "colab": {
          "base_uri": "https://localhost:8080/"
        },
        "id": "nNKACJYRvO5f",
        "outputId": "4cb36015-3a8d-4d95-ce05-4ae112945c60"
      },
      "outputs": [
        {
          "data": {
            "text/plain": [
              "11.999999999999886"
            ]
          },
          "execution_count": 38,
          "metadata": {},
          "output_type": "execute_result"
        }
      ],
      "source": [
        "a=(1,2,3,-4,5)\n",
        "fa = (2,48,272,1182,2262)\n",
        "x = -1\n",
        "Lagrange(x,a,fa)"
      ]
    },
    {
      "cell_type": "markdown",
      "metadata": {
        "id": "UTsy5jgGwzu3"
      },
      "source": [
        "## Richardson method"
      ]
    },
    {
      "cell_type": "code",
      "execution_count": 41,
      "metadata": {
        "id": "E7qTtf7nw5aK"
      },
      "outputs": [],
      "source": [
        "def richardson_diff(f, x,h=0.75,N=2):\n",
        "    d = np.array( [[0] * (N + 1)] * (N + 1), float )\n",
        "\n",
        "    for i in range( N + 1 ):\n",
        "        d[i,0] = 0.5 * ( f( x + h ) - f( x - h ) ) / h\n",
        "\n",
        "        powerOf4 = 1  \n",
        "        for j in range( 1, i + 1 ):\n",
        "            powerOf4 = 4 * powerOf4\n",
        "            d[i,j] = d[i,j-1] + ( d[i,j-1] - d[i-1,j-1] ) / ( powerOf4 - 1 )\n",
        "\n",
        "        h = 0.5 * h\n",
        "\n",
        "    return d[-1][-1]"
      ]
    },
    {
      "cell_type": "code",
      "execution_count": 42,
      "metadata": {
        "colab": {
          "base_uri": "https://localhost:8080/"
        },
        "id": "0JZB3v25w-Wu",
        "outputId": "b03b66e4-71ca-44b1-d09e-33d421b37979"
      },
      "outputs": [
        {
          "data": {
            "text/plain": [
              "192.0"
            ]
          },
          "execution_count": 42,
          "metadata": {},
          "output_type": "execute_result"
        }
      ],
      "source": [
        "f = lambda x: x**6\n",
        "richardson_diff(2)"
      ]
    },
    {
      "cell_type": "markdown",
      "metadata": {
        "id": "7XyfUsI0xZTG"
      },
      "source": [
        "## Fix point"
      ]
    },
    {
      "cell_type": "code",
      "execution_count": 2,
      "metadata": {
        "colab": {
          "base_uri": "https://localhost:8080/"
        },
        "id": "4Lu7dYclxceN",
        "outputId": "a8e6f274-9b86-4f17-a095-4647ddd5e7b4"
      },
      "outputs": [
        {
          "name": "stdout",
          "output_type": "stream",
          "text": [
            "3\n"
          ]
        }
      ],
      "source": [
        "class Solution(object):\n",
        "   def fixedPoint(self, A):\n",
        "      for i in range(len(A)):\n",
        "         if i == A[i]:\n",
        "            return i\n",
        "      return -1\n",
        "ob1 = Solution()\n",
        "print(ob1.fixedPoint([-10,-5,0,3,7]))"
      ]
    },
    {
      "cell_type": "code",
      "execution_count": null,
      "metadata": {
        "id": "_8dfMiuu3CEx"
      },
      "outputs": [],
      "source": []
    },
    {
      "cell_type": "markdown",
      "metadata": {
        "id": "bvR4T7CS3BN2"
      },
      "source": [
        "## Taylor series"
      ]
    },
    {
      "cell_type": "code",
      "execution_count": 1,
      "metadata": {
        "colab": {
          "base_uri": "https://localhost:8080/",
          "height": 538
        },
        "id": "DqDvl85T3FJf",
        "outputId": "b55a2650-eade-46d3-c4e2-b762881be928"
      },
      "outputs": [
        {
          "data": {
            "image/png": "[encoded data removed]",
            "text/plain": [
              "<Figure size 1000x800 with 1 Axes>"
            ]
          },
          "metadata": {},
          "output_type": "display_data"
        }
      ],
      "source": [
        "import numpy as np\n",
        "import matplotlib.pyplot as plt\n",
        "\n",
        "plt.style.use('seaborn-poster')\n",
        "x = np.linspace(-np.pi, np.pi, 200)\n",
        "y = np.zeros(len(x))\n",
        "\n",
        "labels = ['First Order', 'Third Order', 'Fifth Order', 'Seventh Order']\n",
        "\n",
        "plt.figure(figsize = (10,8))\n",
        "for n, label in zip(range(4), labels):\n",
        "    y = y + ((-1)**n * (x)**(2*n+1)) / np.math.factorial(2*n+1)\n",
        "    plt.plot(x,y, label = label)\n",
        "\n",
        "plt.plot(x, np.sin(x), 'k', label = 'Analytic')\n",
        "plt.grid()\n",
        "plt.title('Taylor Series Approximations of Various Orders')\n",
        "plt.xlabel('x')\n",
        "plt.ylabel('y')\n",
        "plt.legend()\n",
        "plt.show()"
      ]
    }
  ],
  "metadata": {
    "colab": {
      "collapsed_sections": [],
      "provenance": []
    },
    "kernelspec": {
      "display_name": "Python 3.10.5 64-bit",
      "language": "python",
      "name": "python3"
    },
    "language_info": {
      "codemirror_mode": {
        "name": "ipython",
        "version": 3
      },
      "file_extension": ".py",
      "mimetype": "text/x-python",
      "name": "python",
      "nbconvert_exporter": "python",
      "pygments_lexer": "ipython3",
      "version": "3.10.5"
    },
    "vscode": {
      "interpreter": {
        "hash": "aee8b7b246df8f9039afb4144a1f6fd8d2ca17a180786b69acc140d282b71a49"
      }
    }
  },
  "nbformat": 4,
  "nbformat_minor": 0
}
