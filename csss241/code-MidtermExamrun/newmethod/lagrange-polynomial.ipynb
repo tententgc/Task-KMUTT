{
 "cells": [
  {
   "cell_type": "code",
   "execution_count": 15,
   "metadata": {},
   "outputs": [],
   "source": [
    "import numpy as np\n",
    "import matplotlib.pyplot as plt\n",
    "import math\n",
    "\n",
    "\n",
    "def Lagrange(n, x, x_axis, y_axis):\n",
    "    res = 0\n",
    "    for i in range(n):\n",
    "        l_mul = 1\n",
    "        for j in range(n):\n",
    "            if j != i:\n",
    "                l_mul *= (x - x_axis[j]) / (x_axis[i] - x_axis[j])\n",
    "        \n",
    "        res += l_mul * y_axis[i]\n",
    "    return res\n"
   ]
  },
  {
   "cell_type": "code",
   "execution_count": 33,
   "metadata": {},
   "outputs": [
    {
     "name": "stdout",
     "output_type": "stream",
     "text": [
      "P(x) = 0.454815\n"
     ]
    }
   ],
   "source": [
    "def f(x): return 2/(x+2)\n",
    "\n",
    "n = 3\n",
    "x = 2.3\n",
    "x_axis = [0, 1, 2.5]\n",
    "y_axis = [f(i) for i in x_axis]\n",
    "result = Lagrange(n=n, x=x, x_axis=x_axis,y_axis=y_axis)\n",
    "print(f\"P(x) = {result:.6f}\")"
   ]
  },
  {
   "cell_type": "code",
   "execution_count": 32,
   "metadata": {},
   "outputs": [
    {
     "name": "stdout",
     "output_type": "stream",
     "text": [
      "P(x) = 1.0000\n",
      "P(x) = 0.9988\n"
     ]
    }
   ],
   "source": [
    "def f(x): return math.cos((math.radians(x)*math.pi)/4)\n",
    "\n",
    "\n",
    "x = 0.5\n",
    "x_axis = [0, 1, 2, 4]\n",
    "y_axis = [f(i) for i in x_axis]\n",
    "result = Lagrange(n=len(x_axis), x=x, x_axis=x_axis,y_axis=y_axis)\n",
    "print(f\"P(x) = {result:.4f}\")\n",
    "\n",
    "x = 3.5\n",
    "x_axis = [0, 1, 2, 4]\n",
    "y_axis = [f(i) for i in x_axis]\n",
    "result = Lagrange(n=len(x_axis), x=x, x_axis=x_axis,y_axis=y_axis)\n",
    "print(f\"P(x) = {result:.4f}\")"
   ]
  }
 ],
 "metadata": {
  "kernelspec": {
   "display_name": "Python 3.9.5 64-bit",
   "language": "python",
   "name": "python3"
  },
  "language_info": {
   "codemirror_mode": {
    "name": "ipython",
    "version": 3
   },
   "file_extension": ".py",
   "mimetype": "text/x-python",
   "name": "python",
   "nbconvert_exporter": "python",
   "pygments_lexer": "ipython3",
   "version": "3.10.5"
  },
  "orig_nbformat": 4,
  "vscode": {
   "interpreter": {
    "hash": "aee8b7b246df8f9039afb4144a1f6fd8d2ca17a180786b69acc140d282b71a49"
   }
  }
 },
 "nbformat": 4,
 "nbformat_minor": 2
}
