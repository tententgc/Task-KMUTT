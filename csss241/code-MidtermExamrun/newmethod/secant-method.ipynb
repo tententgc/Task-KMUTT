{
 "cells": [
  {
   "cell_type": "code",
   "execution_count": 7,
   "id": "21626f65",
   "metadata": {},
   "outputs": [],
   "source": [
    "import numpy as np\n",
    "import matplotlib.pyplot as plt\n",
    "\n",
    "def secant(x0, x1, f):\n",
    "\n",
    "    i = 0\n",
    "    while np.sign(f(x0) - f(x1)) != 0 and i < 100:\n",
    "        x = x1 - (( x0 - x1) / (f(x0) - f(x1)))*f(x1)\n",
    "        x0 = x1\n",
    "        x1 = x\n",
    "        i += 1\n",
    "    return x\n",
    "\n",
    "\n",
    "def ShowGraph(x, f):\n",
    "    x_plot = np.linspace(0, 3, 1000)\n",
    "    y_plot = f(x_plot)\n",
    "    fig = plt.figure()\n",
    "    plt.plot(x_plot, y_plot, c='blue')\n",
    "    plt.plot(x, f(x), c='red', marker='o', fillstyle='none')\n",
    "    plt.xlabel('x')\n",
    "    plt.ylabel('y')\n",
    "    plt.grid()\n",
    "    plt.show()"
   ]
  },
  {
   "cell_type": "code",
   "execution_count": 8,
   "id": "22019489",
   "metadata": {},
   "outputs": [
    {
     "name": "stdout",
     "output_type": "stream",
     "text": [
      "result = 0.20163967572340466\n"
     ]
    },
    {
     "data": {
      "image/png": "[encoded data removed]",
      "text/plain": [
       "<Figure size 432x288 with 1 Axes>"
      ]
     },
     "metadata": {
      "needs_background": "light"
     },
     "output_type": "display_data"
    }
   ],
   "source": [
    "def f(x): return x**3 - 5*x + 1\n",
    "\n",
    "x = secant(0, 1, f)\n",
    "print(f\"result = {x}\")\n",
    "ShowGraph(x, f)"
   ]
  }
 ],
 "metadata": {
  "kernelspec": {
   "display_name": "Python 3.9.5 64-bit",
   "language": "python",
   "name": "python3"
  },
  "language_info": {
   "codemirror_mode": {
    "name": "ipython",
    "version": 3
   },
   "file_extension": ".py",
   "mimetype": "text/x-python",
   "name": "python",
   "nbconvert_exporter": "python",
   "pygments_lexer": "ipython3",
   "version": "3.9.5"
  },
  "vscode": {
   "interpreter": {
    "hash": "aee8b7b246df8f9039afb4144a1f6fd8d2ca17a180786b69acc140d282b71a49"
   }
  }
 },
 "nbformat": 4,
 "nbformat_minor": 5
}
