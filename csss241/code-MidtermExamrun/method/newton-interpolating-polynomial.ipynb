{
 "cells": [
  {
   "cell_type": "code",
   "execution_count": 2,
   "metadata": {},
   "outputs": [],
   "source": [
    "import math\n",
    "import numpy as np\n",
    "\n",
    "def Newton(x, x_axis, y_axis):\n",
    "    n = len(x_axis)\n",
    "    coef = np.zeros([n, n])\n",
    "    coef[:,0] = y_axis\n",
    "    \n",
    "    for j in range(1,n):\n",
    "        for i in range(n-j):\n",
    "            coef[i][j] = (coef[i+1][j-1] - coef[i][j-1]) / (x_axis[i+j] - x_axis[i])\n",
    "            \n",
    "    res = 0\n",
    "    for i in range(n):\n",
    "        poly = 1\n",
    "        for j in range(i):\n",
    "            poly *= (x - x_axis[j])\n",
    "        res += coef[0][i]*poly\n",
    "    return (res, coef)"
   ]
  },
  {
   "cell_type": "code",
   "execution_count": 2,
   "metadata": {},
   "outputs": [
    {
     "name": "stdout",
     "output_type": "stream",
     "text": [
      "[[ 2.         -2.          1.33333333]\n",
      " [ 0.         -1.          0.        ]\n",
      " [ 0.25        0.          0.        ]]\n",
      "P(0) = 2.0000\n"
     ]
    }
   ],
   "source": [
    "x = 0\n",
    "x_axis = [0, 1, 3/4]\n",
    "y_axis = [2, 0, .25]\n",
    "res, coef = Newton(x=x, x_axis=x_axis,y_axis=y_axis)\n",
    "print(coef)\n",
    "print(f\"P({x}) = {res:.4f}\")"
   ]
  },
  {
   "cell_type": "code",
   "execution_count": 3,
   "metadata": {},
   "outputs": [
    {
     "name": "stdout",
     "output_type": "stream",
     "text": [
      "[[ 2.          1.72        1.475       0.84166667]\n",
      " [ 3.72        4.67        4.          0.        ]\n",
      " [ 8.39       12.67        0.          0.        ]\n",
      " [21.06        0.          0.          0.        ]]\n",
      "P(2.2) = 10.1224\n"
     ]
    }
   ],
   "source": [
    "x = 2.2\n",
    "x_axis = [0, 1, 2, 3]\n",
    "y_axis = [2, 3.72, 8.39, 21.06]\n",
    "res, coef = Newton(x=x, x_axis=x_axis,y_axis=y_axis)\n",
    "print(coef)\n",
    "print(f\"P({x}) = {res:.4f}\")"
   ]
  },
  {
   "cell_type": "code",
   "execution_count": 4,
   "metadata": {},
   "outputs": [
    {
     "name": "stdout",
     "output_type": "stream",
     "text": [
      "[[ 3.6  -1.8   0.6  -0.15  0.03]\n",
      " [ 1.8  -0.6   0.15 -0.03  0.  ]\n",
      " [ 1.2  -0.3   0.06  0.    0.  ]\n",
      " [ 0.9  -0.18  0.    0.    0.  ]\n",
      " [ 0.72  0.    0.    0.    0.  ]]\n",
      "P(2.5) = 1.4231\n",
      "\n",
      "\n",
      "\n",
      "[[ 3.6  -1.8   0.6  -0.15  0.03]\n",
      " [ 1.8  -0.6   0.15 -0.03  0.  ]\n",
      " [ 1.2  -0.3   0.06  0.    0.  ]\n",
      " [ 0.9  -0.18  0.    0.    0.  ]\n",
      " [ 0.72  0.    0.    0.    0.  ]]\n",
      "P(3.5) = 1.0406\n"
     ]
    }
   ],
   "source": [
    "x = 2.5\n",
    "x_axis = [1, 2, 3, 4, 5]\n",
    "y_axis = [3.6, 1.8, 1.2, 0.9, .72]\n",
    "res, coef = Newton(x=x, x_axis=x_axis,y_axis=y_axis)\n",
    "print(coef)\n",
    "print(f\"P({x}) = {res:.4f}\")\n",
    "\n",
    "print(f'\\n\\n')\n",
    "\n",
    "x = 3.5\n",
    "x_axis = [1, 2, 3, 4, 5]\n",
    "y_axis = [3.6, 1.8, 1.2, 0.9, .72]\n",
    "res, coef = Newton(x=x, x_axis=x_axis,y_axis=y_axis)\n",
    "print(coef)\n",
    "print(f\"P({x}) = {res:.4f}\")"
   ]
  },
  {
   "cell_type": "code",
   "execution_count": 5,
   "metadata": {},
   "outputs": [
    {
     "name": "stdout",
     "output_type": "stream",
     "text": [
      "[[ 2.00000000e+00  2.36067977e-01 -1.13231061e-02  9.14335869e-04\n",
      "  -7.96488672e-05]\n",
      " [ 2.23606798e+00  2.13421765e-01 -8.58009850e-03  5.95740400e-04\n",
      "   0.00000000e+00]\n",
      " [ 2.44948974e+00  1.96261568e-01 -6.79287730e-03  0.00000000e+00\n",
      "   0.00000000e+00]\n",
      " [ 2.64575131e+00  1.82675814e-01  0.00000000e+00  0.00000000e+00\n",
      "   0.00000000e+00]\n",
      " [ 2.82842712e+00  0.00000000e+00  0.00000000e+00  0.00000000e+00\n",
      "   0.00000000e+00]]\n",
      "P(5.9) = 2.4290\n"
     ]
    }
   ],
   "source": [
    "def f(x): return math.sqrt(x)\n",
    "\n",
    "x = 5.9\n",
    "x_axis = [4, 5, 6, 7, 8]\n",
    "y_axis = [f(i) for i in x_axis]\n",
    "res, coef = Newton(x=x, x_axis=x_axis,y_axis=y_axis)\n",
    "print(coef)\n",
    "print(f\"P({x}) = {res:.4f}\")"
   ]
  },
  {
   "cell_type": "code",
   "execution_count": 6,
   "metadata": {},
   "outputs": [
    {
     "name": "stdout",
     "output_type": "stream",
     "text": [
      "[[  0.           3.35942485  -0.88614307  -3.97238092  -0.33459454]\n",
      " [  6.7188497    1.14406717 -16.77566674  -5.47805635   0.        ]\n",
      " [  7.29088328 -32.40726631 -30.47080761   0.           0.        ]\n",
      " [-41.32001618 -93.34888154   0.           0.           0.        ]\n",
      " [-87.99445695   0.           0.           0.           0.        ]]\n",
      "P(2.4) = 7.5419\n"
     ]
    }
   ],
   "source": [
    "def f(x): return (math.e**x) * math.sin(x)\n",
    "\n",
    "x = 2.4\n",
    "x_axis = [0, 2, 2.5, 4, 4.5]\n",
    "y_axis = [f(i) for i in x_axis]\n",
    "res, coef = Newton(x=x, x_axis=x_axis,y_axis=y_axis)\n",
    "print(coef)\n",
    "print(f\"P({x}) = {res:.4f}\")"
   ]
  },
  {
   "cell_type": "code",
   "execution_count": 7,
   "metadata": {},
   "outputs": [
    {
     "name": "stdout",
     "output_type": "stream",
     "text": [
      "[[1.         2.71828183]\n",
      " [3.71828183 0.        ]]\n",
      "P(0) = 1.0000\n"
     ]
    }
   ],
   "source": [
    "def f(x): return x**2 + math.e**x\n",
    "\n",
    "x = 0\n",
    "x_axis = [0, 1]\n",
    "y_axis = [f(i) for i in x_axis]\n",
    "res, coef = Newton(x=x, x_axis=x_axis,y_axis=y_axis)\n",
    "print(coef)\n",
    "print(f\"P({x}) = {res:.4f}\")"
   ]
  }
 ],
 "metadata": {
  "kernelspec": {
   "display_name": "Python 3.9.5 64-bit",
   "language": "python",
   "name": "python3"
  },
  "language_info": {
   "codemirror_mode": {
    "name": "ipython",
    "version": 3
   },
   "file_extension": ".py",
   "mimetype": "text/x-python",
   "name": "python",
   "nbconvert_exporter": "python",
   "pygments_lexer": "ipython3",
   "version": "3.10.5"
  },
  "orig_nbformat": 4,
  "vscode": {
   "interpreter": {
    "hash": "aee8b7b246df8f9039afb4144a1f6fd8d2ca17a180786b69acc140d282b71a49"
   }
  }
 },
 "nbformat": 4,
 "nbformat_minor": 2
}
