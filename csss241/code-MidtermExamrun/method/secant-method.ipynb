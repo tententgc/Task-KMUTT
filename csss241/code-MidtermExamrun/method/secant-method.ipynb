{
 "cells": [
  {
   "cell_type": "code",
   "execution_count": 14,
   "id": "21626f65",
   "metadata": {},
   "outputs": [],
   "source": [
    "import numpy as np\n",
    "import matplotlib.pyplot as plt\n",
    "\n",
    "def secant(x0, x1, f, iteration=20):\n",
    "\n",
    "    i = 0\n",
    "    while np.sign(f(x0) - f(x1)) != 0 and i < iteration:\n",
    "        x = x1 - (( x0 - x1) / (f(x0) - f(x1)))*f(x1)\n",
    "        x0 = x1\n",
    "        x1 = x\n",
    "        print(f\"Iteration {i} - x = {x} - [ f(x0) - f(x1) ] = {f(x0) - f(x1)}\")\n",
    "        i += 1\n",
    "    return x\n",
    "\n",
    "\n",
    "def ShowGraph(x, f):\n",
    "    x_plot = np.linspace(x-2, x+2, 1000)\n",
    "    y_plot = f(x_plot)\n",
    "    fig = plt.figure()\n",
    "    plt.plot(x_plot, y_plot, c='blue')\n",
    "    plt.plot(x, f(x), c='red', marker='o', fillstyle='none')\n",
    "    plt.xlabel('x')\n",
    "    plt.ylabel('y')\n",
    "    plt.grid()\n",
    "    plt.show()"
   ]
  },
  {
   "cell_type": "code",
   "execution_count": 15,
   "id": "22019489",
   "metadata": {},
   "outputs": [
    {
     "name": "stdout",
     "output_type": "stream",
     "text": [
      "Iteration 0 - x = 0.25 - [ f(x0) - f(x1) ] = -2.765625\n",
      "Iteration 1 - x = 0.1864406779661017 - [ f(x0) - f(x1) ] = -0.30865231170178065\n",
      "Iteration 2 - x = 0.20173625617912722 - [ f(x0) - f(x1) ] = 0.07474842787051694\n",
      "Iteration 3 - x = 0.2016398528913041 - [ f(x0) - f(x1) ] = -0.00047025193943239785\n",
      "Iteration 4 - x = 0.20163967572128236 - [ f(x0) - f(x1) ] = -8.642396566171939e-07\n",
      "Iteration 5 - x = 0.2016396757234047 - [ f(x0) - f(x1) ] = 1.0352940726932047e-11\n",
      "Iteration 6 - x = 0.20163967572340463 - [ f(x0) - f(x1) ] = -3.3306690738754696e-16\n",
      "Iteration 7 - x = 0.20163967572340466 - [ f(x0) - f(x1) ] = 0.0\n",
      "result = 0.2016\n"
     ]
    },
    {
     "data": {
      "image/png": "[encoded data removed]",
      "text/plain": [
       "<Figure size 432x288 with 1 Axes>"
      ]
     },
     "metadata": {
      "needs_background": "light"
     },
     "output_type": "display_data"
    }
   ],
   "source": [
    "def f(x): return x**3 - 5*x + 1\n",
    "\n",
    "x = secant(0, 1, f)\n",
    "print(f\"result = {x:.4f}\")\n",
    "ShowGraph(x, f)"
   ]
  }
 ],
 "metadata": {
  "kernelspec": {
   "display_name": "Python 3.9.5 64-bit",
   "language": "python",
   "name": "python3"
  },
  "language_info": {
   "codemirror_mode": {
    "name": "ipython",
    "version": 3
   },
   "file_extension": ".py",
   "mimetype": "text/x-python",
   "name": "python",
   "nbconvert_exporter": "python",
   "pygments_lexer": "ipython3",
   "version": "3.9.5"
  },
  "vscode": {
   "interpreter": {
    "hash": "aee8b7b246df8f9039afb4144a1f6fd8d2ca17a180786b69acc140d282b71a49"
   }
  }
 },
 "nbformat": 4,
 "nbformat_minor": 5
}
