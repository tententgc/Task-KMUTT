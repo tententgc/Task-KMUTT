{
 "cells": [
  {
   "cell_type": "code",
   "execution_count": 10,
   "metadata": {},
   "outputs": [],
   "source": [
    "import numpy as np\n",
    "import matplotlib.pyplot as plt\n",
    "import math\n",
    "\n",
    "\n",
    "def Lagrange(n, x, x_axis, y_axis):\n",
    "    res = 0\n",
    "    for i in range(n):\n",
    "        l_mul = 1\n",
    "        for j in range(n):\n",
    "            if j != i:\n",
    "                l_mul *= (x - x_axis[j]) / (x_axis[i] - x_axis[j])\n",
    "                print(\"l_mul\",l_mul)\n",
    "        res += l_mul * y_axis[i]\n",
    "        print(res)\n",
    "    return res\n"
   ]
  },
  {
   "cell_type": "code",
   "execution_count": 8,
   "metadata": {},
   "outputs": [
    {
     "name": "stdout",
     "output_type": "stream",
     "text": [
      "-1.2999999999999998\n",
      "-0.10400000000000008\n",
      "-0.10400000000000008\n",
      "2.3\n",
      "0.3066666666666669\n",
      "0.10044444444444452\n",
      "0.9199999999999999\n",
      "0.7973333333333332\n",
      "0.4548148148148148\n",
      "P(x) = 0.454815\n"
     ]
    }
   ],
   "source": [
    "def f(x): return 2/(x+2)\n",
    "\n",
    "n = 3\n",
    "x = 2.3\n",
    "x_axis = [0, 1, 2.5]\n",
    "y_axis = [f(i) for i in x_axis]\n",
    "result = Lagrange(n=n, x=x, x_axis=x_axis,y_axis=y_axis)\n",
    "print(f\"P(x) = {result:.6f}\")"
   ]
  },
  {
   "cell_type": "code",
   "execution_count": 9,
   "metadata": {},
   "outputs": [
    {
     "name": "stdout",
     "output_type": "stream",
     "text": [
      "0.5\n",
      "0.375\n",
      "0.328125\n",
      "0.328125\n",
      "0.5\n",
      "0.75\n",
      "0.875\n",
      "1.2030427935763566\n",
      "0.25\n",
      "-0.125\n",
      "-0.21875\n",
      "0.984374996138345\n",
      "0.125\n",
      "-0.020833333333333332\n",
      "0.015625\n",
      "0.9999765141049679\n",
      "P(x) = 1.0000\n",
      "-2.5\n",
      "1.875\n",
      "0.234375\n",
      "0.234375\n",
      "3.5\n",
      "-5.25\n",
      "-0.875\n",
      "-0.6405427935763567\n",
      "1.75\n",
      "4.375\n",
      "1.09375\n",
      "0.4527961936137014\n",
      "0.875\n",
      "0.7291666666666667\n",
      "0.546875\n",
      "0.998849322445502\n",
      "P(x) = 0.9988\n"
     ]
    }
   ],
   "source": [
    "def f(x): return math.cos((math.radians(x)*math.pi)/4)\n",
    "\n",
    "\n",
    "x = 0.5\n",
    "x_axis = [0, 1, 2, 4]\n",
    "y_axis = [f(i) for i in x_axis]\n",
    "result = Lagrange(n=len(x_axis), x=x, x_axis=x_axis,y_axis=y_axis)\n",
    "print(f\"P(x) = {result:.4f}\")\n",
    "\n",
    "x = 3.5\n",
    "x_axis = [0, 1, 2, 4]\n",
    "y_axis = [f(i) for i in x_axis]\n",
    "result = Lagrange(n=len(x_axis), x=x, x_axis=x_axis,y_axis=y_axis)\n",
    "print(f\"P(x) = {result:.4f}\")"
   ]
  },
  {
   "cell_type": "code",
   "execution_count": null,
   "metadata": {},
   "outputs": [],
   "source": [
    "def f(x): return \n",
    "\n",
    "\n",
    "n = 3\n",
    "x = 2.3\n",
    "x_axis = [0, 1, 2.5]\n",
    "y_axis = [f(i) for i in x_axis]\n",
    "result = Lagrange(n=n, x=x, x_axis=x_axis, y_axis=y_axis)\n",
    "print(f\"P(x) = {result:.6f}\")\n"
   ]
  },
  {
   "cell_type": "code",
   "execution_count": 11,
   "metadata": {},
   "outputs": [
    {
     "name": "stdout",
     "output_type": "stream",
     "text": [
      "0.1\n",
      "-0.2\n",
      "-1.8\n",
      "0.9\n",
      "0.7714285714285714\n",
      "-0.25714285714285734\n",
      "3.0\n",
      "0.42857142857142855\n",
      "5.314285714285714\n",
      "P(x) = 5.314286\n"
     ]
    }
   ],
   "source": [
    "n = 3\n",
    "x = -1\n",
    "x_axis = [8,-2,5]\n",
    "y_axis = [9,2,13]\n",
    "result = Lagrange(n=n, x=x, x_axis=x_axis, y_axis=y_axis)\n",
    "print(f\"P(x) = {result:.6f}\")\n"
   ]
  }
 ],
 "metadata": {
  "kernelspec": {
   "display_name": "Python 3.9.5 64-bit",
   "language": "python",
   "name": "python3"
  },
  "language_info": {
   "codemirror_mode": {
    "name": "ipython",
    "version": 3
   },
   "file_extension": ".py",
   "mimetype": "text/x-python",
   "name": "python",
   "nbconvert_exporter": "python",
   "pygments_lexer": "ipython3",
   "version": "3.10.5"
  },
  "orig_nbformat": 4,
  "vscode": {
   "interpreter": {
    "hash": "aee8b7b246df8f9039afb4144a1f6fd8d2ca17a180786b69acc140d282b71a49"
   }
  }
 },
 "nbformat": 4,
 "nbformat_minor": 2
}
