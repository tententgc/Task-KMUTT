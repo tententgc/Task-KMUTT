{
 "cells": [
  {
   "cell_type": "code",
   "execution_count": 11,
   "id": "28c8ef5d",
   "metadata": {},
   "outputs": [],
   "source": [
    "import numpy as np\n",
    "import matplotlib.pyplot as plt\n",
    "\n",
    "def NewTon(x0, f, dfdx, iterator=20):\n",
    "    x0 = 1\n",
    "    xi_1 = x0\n",
    "    tol = 1E-15\n",
    "    i = 0\n",
    "    while abs(f(xi_1)) > tol or i > iterator:\n",
    "        xi = xi_1 - f(xi_1)/dfdx(xi_1)\n",
    "        print('Iteration ' + str(i) + ': x = ' + str(xi) + ', f(x) = ' +  str(f(xi)))\n",
    "        xi_1 = xi\n",
    "        i += 1\n",
    "    return xi\n",
    "\n",
    "def ShowGraph(xi, f):\n",
    "    x_plot = np.linspace(-2, 2, 1000)\n",
    "    y_plot = f(x_plot)\n",
    "    \n",
    "    # Plotting Function\n",
    "    fig = plt.figure()\n",
    "    plt.plot(x_plot, y_plot, c='blue')\n",
    "    plt.plot(xi, f(xi), c='red', marker='o', fillstyle='none')\n",
    "    plt.xlim([-2, 2])\n",
    "    plt.ylim([-2, 2])\n",
    "    plt.xlabel('x')\n",
    "    plt.ylabel('y')\n",
    "    plt.grid()\n",
    "    plt.show()"
   ]
  },
  {
   "cell_type": "code",
   "execution_count": 14,
   "id": "86923fe4",
   "metadata": {},
   "outputs": [
    {
     "name": "stdout",
     "output_type": "stream",
     "text": [
      "Iteration 0: x = 0.7866397888154096, f(x) = -0.2673205221391448\n",
      "Iteration 1: x = 0.7261709381607133, f(x) = -0.018132645287873284\n",
      "Iteration 2: x = 0.7214340390454733, f(x) = -0.0001059518195203335\n",
      "Iteration 3: x = 0.7214060336500903, f(x) = -3.689342609192181e-09\n",
      "Iteration 4: x = 0.7214060326748479, f(x) = 2.220446049250313e-16\n",
      "result = 0.7214\n"
     ]
    },
    {
     "data": {
      "image/png": "[encoded data removed]",
      "text/plain": [
       "<Figure size 432x288 with 1 Axes>"
      ]
     },
     "metadata": {
      "needs_background": "light"
     },
     "output_type": "display_data"
    }
   ],
   "source": [
    "def f(x): return np.cos(x)-2*x**3\n",
    " \n",
    "def dfdx(x): return -np.sin(x)-6*x**2\n",
    "\n",
    "x = NewTon(1, f, dfdx)\n",
    "print(f\"result = {x:.4f}\")\n",
    "ShowGraph(x, f)"
   ]
  }
 ],
 "metadata": {
  "kernelspec": {
   "display_name": "Python 3 (ipykernel)",
   "language": "python",
   "name": "python3"
  },
  "language_info": {
   "codemirror_mode": {
    "name": "ipython",
    "version": 3
   },
   "file_extension": ".py",
   "mimetype": "text/x-python",
   "name": "python",
   "nbconvert_exporter": "python",
   "pygments_lexer": "ipython3",
   "version": "3.9.5"
  },
  "vscode": {
   "interpreter": {
    "hash": "aee8b7b246df8f9039afb4144a1f6fd8d2ca17a180786b69acc140d282b71a49"
   }
  }
 },
 "nbformat": 4,
 "nbformat_minor": 5
}
