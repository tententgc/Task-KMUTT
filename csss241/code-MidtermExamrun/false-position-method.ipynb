{
 "cells": [
  {
   "cell_type": "code",
   "execution_count": 21,
   "metadata": {},
   "outputs": [],
   "source": [
    "import math\n",
    "\n",
    "def false_position(a,  b, f, iterater=8):\n",
    "    x0 = a\n",
    "    x1 = b\n",
    "    i = 1\n",
    "    while i < iterater+1:\n",
    "        x2 = x0 - (x1-x0) * f(x0)/(f(x1) - f(x0))\n",
    "        print(f'Iteration - {i}, x2 = {x2:.6f} and f(x2) = {f(x2):.6f}')\n",
    "\n",
    "        if f(x0) * f(x2) < 0:\n",
    "            x1 = x2\n",
    "        else:\n",
    "            x0 = x2\n",
    "\n",
    "        i = i + 1"
   ]
  },
  {
   "cell_type": "code",
   "execution_count": 22,
   "metadata": {},
   "outputs": [
    {
     "name": "stdout",
     "output_type": "stream",
     "text": [
      "Iteration - 1, x2 = 0.444444 and f(x2) = -1.344307\n",
      "Iteration - 2, x2 = 0.562162 and f(x2) = -0.309588\n",
      "Iteration - 3, x2 = 0.587691 and f(x2) = -0.064733\n",
      "Iteration - 4, x2 = 0.592961 and f(x2) = -0.013257\n",
      "Iteration - 5, x2 = 0.594037 and f(x2) = -0.002704\n",
      "Iteration - 6, x2 = 0.594257 and f(x2) = -0.000551\n",
      "Iteration - 7, x2 = 0.594302 and f(x2) = -0.000112\n",
      "Iteration - 8, x2 = 0.594311 and f(x2) = -0.000023\n"
     ]
    }
   ],
   "source": [
    "def f(x): return x**3 + 4*x**2 + 4*x - 4\n",
    "false_position(a=0, b=1, f=f)"
   ]
  },
  {
   "cell_type": "code",
   "execution_count": 17,
   "metadata": {},
   "outputs": [
    {
     "name": "stdout",
     "output_type": "stream",
     "text": [
      "Iteration - 1, x2 = 1.057143 and f(x2) = -0.281259\n",
      "Iteration - 2, x2 = 1.072652 and f(x2) = -0.074626\n",
      "Iteration - 3, x2 = 1.076728 and f(x2) = -0.019492\n",
      "Iteration - 4, x2 = 1.077790 and f(x2) = -0.005070\n",
      "Iteration - 5, x2 = 1.078066 and f(x2) = -0.001318\n",
      "Iteration - 6, x2 = 1.078137 and f(x2) = -0.000342\n",
      "Iteration - 7, x2 = 1.078156 and f(x2) = -0.000089\n",
      "Iteration - 8, x2 = 1.078161 and f(x2) = -0.000023\n"
     ]
    }
   ],
   "source": [
    "def f(x): return 2*x**3 + 4*x**2 - 2*x - 5\n",
    "false_position(a=1,b=1.5,f=f)"
   ]
  },
  {
   "cell_type": "code",
   "execution_count": 18,
   "metadata": {},
   "outputs": [
    {
     "name": "stdout",
     "output_type": "stream",
     "text": [
      "Iteration - 1, x2 = 3.511704 and f(x2) = -3.490878\n",
      "Iteration - 2, x2 = 3.680658 and f(x2) = -0.969235\n",
      "Iteration - 3, x2 = 3.721560 and f(x2) = -0.221215\n",
      "Iteration - 4, x2 = 3.730592 and f(x2) = -0.048158\n",
      "Iteration - 5, x2 = 3.732544 and f(x2) = -0.010375\n",
      "Iteration - 6, x2 = 3.732964 and f(x2) = -0.002230\n",
      "Iteration - 7, x2 = 3.733054 and f(x2) = -0.000479\n",
      "Iteration - 8, x2 = 3.733074 and f(x2) = -0.000103\n"
     ]
    }
   ],
   "source": [
    "def f(x): return math.e**x - 3*x**2\n",
    "false_position(3,4,f=f)"
   ]
  }
 ],
 "metadata": {
  "kernelspec": {
   "display_name": "Python 3.9.5 64-bit",
   "language": "python",
   "name": "python3"
  },
  "language_info": {
   "codemirror_mode": {
    "name": "ipython",
    "version": 3
   },
   "file_extension": ".py",
   "mimetype": "text/x-python",
   "name": "python",
   "nbconvert_exporter": "python",
   "pygments_lexer": "ipython3",
   "version": "3.9.5"
  },
  "orig_nbformat": 4,
  "vscode": {
   "interpreter": {
    "hash": "aee8b7b246df8f9039afb4144a1f6fd8d2ca17a180786b69acc140d282b71a49"
   }
  }
 },
 "nbformat": 4,
 "nbformat_minor": 2
}
