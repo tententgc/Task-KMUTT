{
 "cells": [
  {
   "cell_type": "code",
   "execution_count": 1,
   "metadata": {},
   "outputs": [],
   "source": [
    "import numpy as np\n",
    "import matplotlib.pyplot as plt\n"
   ]
  },
  {
   "cell_type": "markdown",
   "metadata": {},
   "source": [
    "Newthon\n"
   ]
  },
  {
   "cell_type": "code",
   "execution_count": 2,
   "metadata": {},
   "outputs": [],
   "source": [
    "def divided_diff_triangle2(a, fa):\n",
    "    assert len(a) == len(fa)\n",
    "    n = len(a)\n",
    "    table = np.zeros((n, n), dtype=np.float64)\n",
    "    def f_(y1, y0, x1, x0): return (y1-y0)/(x1-x0)\n",
    "    table[:, 0] = fa\n",
    "    for i in range(1, n+1):  # col\n",
    "        for j in range(i, n):  # row\n",
    "            print(i, j, a[j], a[j-i])\n",
    "            table[j][i] = f_(table[j][i-1], table[j-1][i-1], a[j], a[j-i])\n",
    "            print(table)\n",
    "    coef = [table[i][i] for i in range(n)]\n",
    "    return coef\n"
   ]
  },
  {
   "cell_type": "code",
   "execution_count": 5,
   "metadata": {},
   "outputs": [],
   "source": [
    "def divided_diff_triangle(a, fa):\n",
    "    assert len(a) == len(fa)\n",
    "    n = len(a)\n",
    "    table = np.zeros((n, n), dtype=np.float64)\n",
    "    def f_(y1, y0, x1, x0): return (y1-y0)/(x1-x0)\n",
    "    table[:, 0] = fa\n",
    "    for j in range(1, n):  # col\n",
    "        for i in range(n-j):  # row\n",
    "            table[i][j] = f_(table[i+1][j-1], table[i][j-1], a[i+j], a[i])\n",
    "            print(table)\n",
    "    coef = [table[0][i] for i in range(n)]\n",
    "    return coef\n"
   ]
  },
  {
   "cell_type": "code",
   "execution_count": 6,
   "metadata": {},
   "outputs": [],
   "source": [
    "a = (1, 2, 3, -4, 5)\n",
    "fa = (2, 48, 272, 1182, 2262)\n",
    "#a = (0,1,-1,2,-2)\n",
    "#fa = (-5,-3,-15,39,-9)\n",
    "#a = (0,2/3,1)\n",
    "#fa = (1,0.5,0)\n"
   ]
  },
  {
   "cell_type": "code",
   "execution_count": 7,
   "metadata": {},
   "outputs": [
    {
     "name": "stdout",
     "output_type": "stream",
     "text": [
      "[[2.000e+00 4.600e+01 0.000e+00 0.000e+00 0.000e+00]\n",
      " [4.800e+01 0.000e+00 0.000e+00 0.000e+00 0.000e+00]\n",
      " [2.720e+02 0.000e+00 0.000e+00 0.000e+00 0.000e+00]\n",
      " [1.182e+03 0.000e+00 0.000e+00 0.000e+00 0.000e+00]\n",
      " [2.262e+03 0.000e+00 0.000e+00 0.000e+00 0.000e+00]]\n",
      "[[2.000e+00 4.600e+01 0.000e+00 0.000e+00 0.000e+00]\n",
      " [4.800e+01 2.240e+02 0.000e+00 0.000e+00 0.000e+00]\n",
      " [2.720e+02 0.000e+00 0.000e+00 0.000e+00 0.000e+00]\n",
      " [1.182e+03 0.000e+00 0.000e+00 0.000e+00 0.000e+00]\n",
      " [2.262e+03 0.000e+00 0.000e+00 0.000e+00 0.000e+00]]\n",
      "[[ 2.000e+00  4.600e+01  0.000e+00  0.000e+00  0.000e+00]\n",
      " [ 4.800e+01  2.240e+02  0.000e+00  0.000e+00  0.000e+00]\n",
      " [ 2.720e+02 -1.300e+02  0.000e+00  0.000e+00  0.000e+00]\n",
      " [ 1.182e+03  0.000e+00  0.000e+00  0.000e+00  0.000e+00]\n",
      " [ 2.262e+03  0.000e+00  0.000e+00  0.000e+00  0.000e+00]]\n",
      "[[ 2.000e+00  4.600e+01  0.000e+00  0.000e+00  0.000e+00]\n",
      " [ 4.800e+01  2.240e+02  0.000e+00  0.000e+00  0.000e+00]\n",
      " [ 2.720e+02 -1.300e+02  0.000e+00  0.000e+00  0.000e+00]\n",
      " [ 1.182e+03  1.200e+02  0.000e+00  0.000e+00  0.000e+00]\n",
      " [ 2.262e+03  0.000e+00  0.000e+00  0.000e+00  0.000e+00]]\n",
      "[[ 2.000e+00  4.600e+01  8.900e+01  0.000e+00  0.000e+00]\n",
      " [ 4.800e+01  2.240e+02  0.000e+00  0.000e+00  0.000e+00]\n",
      " [ 2.720e+02 -1.300e+02  0.000e+00  0.000e+00  0.000e+00]\n",
      " [ 1.182e+03  1.200e+02  0.000e+00  0.000e+00  0.000e+00]\n",
      " [ 2.262e+03  0.000e+00  0.000e+00  0.000e+00  0.000e+00]]\n",
      "[[ 2.000e+00  4.600e+01  8.900e+01  0.000e+00  0.000e+00]\n",
      " [ 4.800e+01  2.240e+02  5.900e+01  0.000e+00  0.000e+00]\n",
      " [ 2.720e+02 -1.300e+02  0.000e+00  0.000e+00  0.000e+00]\n",
      " [ 1.182e+03  1.200e+02  0.000e+00  0.000e+00  0.000e+00]\n",
      " [ 2.262e+03  0.000e+00  0.000e+00  0.000e+00  0.000e+00]]\n",
      "[[ 2.000e+00  4.600e+01  8.900e+01  0.000e+00  0.000e+00]\n",
      " [ 4.800e+01  2.240e+02  5.900e+01  0.000e+00  0.000e+00]\n",
      " [ 2.720e+02 -1.300e+02  1.250e+02  0.000e+00  0.000e+00]\n",
      " [ 1.182e+03  1.200e+02  0.000e+00  0.000e+00  0.000e+00]\n",
      " [ 2.262e+03  0.000e+00  0.000e+00  0.000e+00  0.000e+00]]\n",
      "[[ 2.000e+00  4.600e+01  8.900e+01  6.000e+00  0.000e+00]\n",
      " [ 4.800e+01  2.240e+02  5.900e+01  0.000e+00  0.000e+00]\n",
      " [ 2.720e+02 -1.300e+02  1.250e+02  0.000e+00  0.000e+00]\n",
      " [ 1.182e+03  1.200e+02  0.000e+00  0.000e+00  0.000e+00]\n",
      " [ 2.262e+03  0.000e+00  0.000e+00  0.000e+00  0.000e+00]]\n",
      "[[ 2.000e+00  4.600e+01  8.900e+01  6.000e+00  0.000e+00]\n",
      " [ 4.800e+01  2.240e+02  5.900e+01  2.200e+01  0.000e+00]\n",
      " [ 2.720e+02 -1.300e+02  1.250e+02  0.000e+00  0.000e+00]\n",
      " [ 1.182e+03  1.200e+02  0.000e+00  0.000e+00  0.000e+00]\n",
      " [ 2.262e+03  0.000e+00  0.000e+00  0.000e+00  0.000e+00]]\n",
      "[[ 2.000e+00  4.600e+01  8.900e+01  6.000e+00  4.000e+00]\n",
      " [ 4.800e+01  2.240e+02  5.900e+01  2.200e+01  0.000e+00]\n",
      " [ 2.720e+02 -1.300e+02  1.250e+02  0.000e+00  0.000e+00]\n",
      " [ 1.182e+03  1.200e+02  0.000e+00  0.000e+00  0.000e+00]\n",
      " [ 2.262e+03  0.000e+00  0.000e+00  0.000e+00  0.000e+00]]\n",
      "[2.0, 46.0, 89.0, 6.0, 4.0]\n"
     ]
    }
   ],
   "source": [
    "coef_tri = divided_diff_triangle(a, fa)\n",
    "print(coef_tri)\n"
   ]
  },
  {
   "cell_type": "code",
   "execution_count": 25,
   "metadata": {},
   "outputs": [
    {
     "name": "stdout",
     "output_type": "stream",
     "text": [
      "1 1 2 1\n",
      "[[2.000e+00 0.000e+00 0.000e+00 0.000e+00 0.000e+00]\n",
      " [4.800e+01 4.600e+01 0.000e+00 0.000e+00 0.000e+00]\n",
      " [2.720e+02 0.000e+00 0.000e+00 0.000e+00 0.000e+00]\n",
      " [1.182e+03 0.000e+00 0.000e+00 0.000e+00 0.000e+00]\n",
      " [2.262e+03 0.000e+00 0.000e+00 0.000e+00 0.000e+00]]\n",
      "1 2 3 2\n",
      "[[2.000e+00 0.000e+00 0.000e+00 0.000e+00 0.000e+00]\n",
      " [4.800e+01 4.600e+01 0.000e+00 0.000e+00 0.000e+00]\n",
      " [2.720e+02 2.240e+02 0.000e+00 0.000e+00 0.000e+00]\n",
      " [1.182e+03 0.000e+00 0.000e+00 0.000e+00 0.000e+00]\n",
      " [2.262e+03 0.000e+00 0.000e+00 0.000e+00 0.000e+00]]\n",
      "1 3 -4 3\n",
      "[[ 2.000e+00  0.000e+00  0.000e+00  0.000e+00  0.000e+00]\n",
      " [ 4.800e+01  4.600e+01  0.000e+00  0.000e+00  0.000e+00]\n",
      " [ 2.720e+02  2.240e+02  0.000e+00  0.000e+00  0.000e+00]\n",
      " [ 1.182e+03 -1.300e+02  0.000e+00  0.000e+00  0.000e+00]\n",
      " [ 2.262e+03  0.000e+00  0.000e+00  0.000e+00  0.000e+00]]\n",
      "1 4 5 -4\n",
      "[[ 2.000e+00  0.000e+00  0.000e+00  0.000e+00  0.000e+00]\n",
      " [ 4.800e+01  4.600e+01  0.000e+00  0.000e+00  0.000e+00]\n",
      " [ 2.720e+02  2.240e+02  0.000e+00  0.000e+00  0.000e+00]\n",
      " [ 1.182e+03 -1.300e+02  0.000e+00  0.000e+00  0.000e+00]\n",
      " [ 2.262e+03  1.200e+02  0.000e+00  0.000e+00  0.000e+00]]\n",
      "2 2 3 1\n",
      "[[ 2.000e+00  0.000e+00  0.000e+00  0.000e+00  0.000e+00]\n",
      " [ 4.800e+01  4.600e+01  0.000e+00  0.000e+00  0.000e+00]\n",
      " [ 2.720e+02  2.240e+02  8.900e+01  0.000e+00  0.000e+00]\n",
      " [ 1.182e+03 -1.300e+02  0.000e+00  0.000e+00  0.000e+00]\n",
      " [ 2.262e+03  1.200e+02  0.000e+00  0.000e+00  0.000e+00]]\n",
      "2 3 -4 2\n",
      "[[ 2.000e+00  0.000e+00  0.000e+00  0.000e+00  0.000e+00]\n",
      " [ 4.800e+01  4.600e+01  0.000e+00  0.000e+00  0.000e+00]\n",
      " [ 2.720e+02  2.240e+02  8.900e+01  0.000e+00  0.000e+00]\n",
      " [ 1.182e+03 -1.300e+02  5.900e+01  0.000e+00  0.000e+00]\n",
      " [ 2.262e+03  1.200e+02  0.000e+00  0.000e+00  0.000e+00]]\n",
      "2 4 5 3\n",
      "[[ 2.000e+00  0.000e+00  0.000e+00  0.000e+00  0.000e+00]\n",
      " [ 4.800e+01  4.600e+01  0.000e+00  0.000e+00  0.000e+00]\n",
      " [ 2.720e+02  2.240e+02  8.900e+01  0.000e+00  0.000e+00]\n",
      " [ 1.182e+03 -1.300e+02  5.900e+01  0.000e+00  0.000e+00]\n",
      " [ 2.262e+03  1.200e+02  1.250e+02  0.000e+00  0.000e+00]]\n",
      "3 3 -4 1\n",
      "[[ 2.000e+00  0.000e+00  0.000e+00  0.000e+00  0.000e+00]\n",
      " [ 4.800e+01  4.600e+01  0.000e+00  0.000e+00  0.000e+00]\n",
      " [ 2.720e+02  2.240e+02  8.900e+01  0.000e+00  0.000e+00]\n",
      " [ 1.182e+03 -1.300e+02  5.900e+01  6.000e+00  0.000e+00]\n",
      " [ 2.262e+03  1.200e+02  1.250e+02  0.000e+00  0.000e+00]]\n",
      "3 4 5 2\n",
      "[[ 2.000e+00  0.000e+00  0.000e+00  0.000e+00  0.000e+00]\n",
      " [ 4.800e+01  4.600e+01  0.000e+00  0.000e+00  0.000e+00]\n",
      " [ 2.720e+02  2.240e+02  8.900e+01  0.000e+00  0.000e+00]\n",
      " [ 1.182e+03 -1.300e+02  5.900e+01  6.000e+00  0.000e+00]\n",
      " [ 2.262e+03  1.200e+02  1.250e+02  2.200e+01  0.000e+00]]\n",
      "4 4 5 1\n",
      "[[ 2.000e+00  0.000e+00  0.000e+00  0.000e+00  0.000e+00]\n",
      " [ 4.800e+01  4.600e+01  0.000e+00  0.000e+00  0.000e+00]\n",
      " [ 2.720e+02  2.240e+02  8.900e+01  0.000e+00  0.000e+00]\n",
      " [ 1.182e+03 -1.300e+02  5.900e+01  6.000e+00  0.000e+00]\n",
      " [ 2.262e+03  1.200e+02  1.250e+02  2.200e+01  4.000e+00]]\n",
      "[2.0, 46.0, 89.0, 6.0, 4.0]\n"
     ]
    }
   ],
   "source": [
    "coef_tri = divided_diff_triangle2(a, fa)\n",
    "print(coef_tri)\n"
   ]
  },
  {
   "cell_type": "code",
   "execution_count": 12,
   "metadata": {},
   "outputs": [],
   "source": [
    "def newton_p(x, a, coef):\n",
    "    n = len(a)\n",
    "    #print('degree ',n-1)\n",
    "    ans = 0\n",
    "    for i in range(n):\n",
    "        mul = coef[i]\n",
    "        print(mul, end=\"\")\n",
    "        for j in range(i):\n",
    "            mul *= x - a[j]\n",
    "            print(\"(x - {})\".format(a[j]), end=\"\")\n",
    "        ans += mul\n",
    "        print(\"+\", end=\"\")\n",
    "    print('\\n================\\n')\n",
    "    return ans\n"
   ]
  },
  {
   "cell_type": "code",
   "execution_count": 26,
   "metadata": {},
   "outputs": [
    {
     "name": "stdout",
     "output_type": "stream",
     "text": [
      "2.0+46.0(x - 1)+89.0(x - 1)(x - 2)+6.0(x - 1)(x - 2)(x - 3)+4.0(x - 1)(x - 2)(x - 3)(x - -4)+\n",
      "================\n",
      "\n",
      "12.0\n"
     ]
    }
   ],
   "source": [
    "newton_ans = newton_p(-1, a, coef_tri)\n",
    "\n",
    "print(newton_ans)\n",
    "#print(newton_ans)\n"
   ]
  },
  {
   "cell_type": "code",
   "execution_count": 14,
   "metadata": {},
   "outputs": [
    {
     "data": {
      "text/plain": [
       "-0.25"
      ]
     },
     "execution_count": 14,
     "metadata": {},
     "output_type": "execute_result"
    }
   ],
   "source": [
    "0.75 * 2/3 -0.75"
   ]
  },
  {
   "cell_type": "code",
   "execution_count": 15,
   "metadata": {},
   "outputs": [],
   "source": [
    "def divided_diff(a, fa, pos, coef=[]):\n",
    "    assert len(a) == len(fa)\n",
    "    if len(a) == 1:\n",
    "        print('fa[{}]={}'.format(a[0], fa[0]))\n",
    "        if pos[0] == 0:\n",
    "            coef.append(fa[0])\n",
    "        return fa[0]\n",
    "    *a_the_left, a_k = a\n",
    "    a_0, *a_the_right = a\n",
    "    *fa_the_left, fa_k = fa\n",
    "    fa_0, *fa_the_right = fa\n",
    "    *pos_the_left, pos_k = pos\n",
    "    pos_0, *pos_the_right = pos\n",
    "    print(a_0, a_the_left,  a_the_right, a_k)\n",
    "    ans = (divided_diff(a_the_right, fa_the_right, pos_the_right, coef) -\n",
    "           divided_diff(a_the_left, fa_the_left, pos_the_left, coef))/(a_k - a_0)\n",
    "    print('divided diff {}= {}'.format(a, ans))\n",
    "    if 0 in pos:\n",
    "        coef.append(ans)\n",
    "    return ans\n"
   ]
  },
  {
   "cell_type": "code",
   "execution_count": 16,
   "metadata": {},
   "outputs": [
    {
     "name": "stdout",
     "output_type": "stream",
     "text": [
      "1 [1, 2, 3, -4] [2, 3, -4, 5] 5\n",
      "2 [2, 3, -4] [3, -4, 5] 5\n",
      "3 [3, -4] [-4, 5] 5\n",
      "-4 [-4] [5] 5\n",
      "fa[5]=2262\n",
      "fa[-4]=1182\n",
      "divided diff [-4, 5]= 120.0\n",
      "3 [3] [-4] -4\n",
      "fa[-4]=1182\n",
      "fa[3]=272\n",
      "divided diff [3, -4]= -130.0\n",
      "divided diff [3, -4, 5]= 125.0\n",
      "2 [2, 3] [3, -4] -4\n",
      "3 [3] [-4] -4\n",
      "fa[-4]=1182\n",
      "fa[3]=272\n",
      "divided diff [3, -4]= -130.0\n",
      "2 [2] [3] 3\n",
      "fa[3]=272\n",
      "fa[2]=48\n",
      "divided diff [2, 3]= 224.0\n",
      "divided diff [2, 3, -4]= 59.0\n",
      "divided diff [2, 3, -4, 5]= 22.0\n",
      "1 [1, 2, 3] [2, 3, -4] -4\n",
      "2 [2, 3] [3, -4] -4\n",
      "3 [3] [-4] -4\n",
      "fa[-4]=1182\n",
      "fa[3]=272\n",
      "divided diff [3, -4]= -130.0\n",
      "2 [2] [3] 3\n",
      "fa[3]=272\n",
      "fa[2]=48\n",
      "divided diff [2, 3]= 224.0\n",
      "divided diff [2, 3, -4]= 59.0\n",
      "1 [1, 2] [2, 3] 3\n",
      "2 [2] [3] 3\n",
      "fa[3]=272\n",
      "fa[2]=48\n",
      "divided diff [2, 3]= 224.0\n",
      "1 [1] [2] 2\n",
      "fa[2]=48\n",
      "fa[1]=2\n",
      "divided diff [1, 2]= 46.0\n",
      "divided diff [1, 2, 3]= 89.0\n",
      "divided diff [1, 2, 3, -4]= 6.0\n",
      "divided diff (1, 2, 3, -4, 5)= 4.0\n"
     ]
    }
   ],
   "source": [
    "coef = []\n",
    "ans = divided_diff(a,fa,range(len(a)),coef)"
   ]
  },
  {
   "cell_type": "code",
   "execution_count": 17,
   "metadata": {},
   "outputs": [
    {
     "name": "stdout",
     "output_type": "stream",
     "text": [
      "4.0 [2, 46.0, 89.0, 6.0, 4.0]\n"
     ]
    }
   ],
   "source": [
    "print(ans,coef)"
   ]
  },
  {
   "cell_type": "code",
   "execution_count": 18,
   "metadata": {},
   "outputs": [
    {
     "name": "stdout",
     "output_type": "stream",
     "text": [
      "2+46.0(x - 1)+89.0(x - 1)(x - 2)+6.0(x - 1)(x - 2)(x - 3)+4.0(x - 1)(x - 2)(x - 3)(x - -4)+\n",
      "================\n",
      "\n"
     ]
    },
    {
     "data": {
      "text/plain": [
       "272.0"
      ]
     },
     "execution_count": 18,
     "metadata": {},
     "output_type": "execute_result"
    }
   ],
   "source": [
    "newton_p(3,a,coef)"
   ]
  },
  {
   "cell_type": "code",
   "execution_count": 19,
   "metadata": {},
   "outputs": [
    {
     "name": "stdout",
     "output_type": "stream",
     "text": [
      "2+46.0(x - 1)+89.0(x - 1)(x - 2)+6.0(x - 1)(x - 2)(x - 3)+4.0(x - 1)(x - 2)(x - 3)(x - -4)+\n",
      "================\n",
      "\n"
     ]
    },
    {
     "data": {
      "text/plain": [
       "[<matplotlib.lines.Line2D at 0x11511e7d0>]"
      ]
     },
     "execution_count": 19,
     "metadata": {},
     "output_type": "execute_result"
    },
    {
     "data": {
      "image/png": "[encoded data removed]",
      "text/plain": [
       "<Figure size 640x480 with 1 Axes>"
      ]
     },
     "metadata": {},
     "output_type": "display_data"
    }
   ],
   "source": [
    "x = np.arange(-4, 5.5, 0.10)\n",
    "y = newton_p(x, a, coef)\n",
    "\n",
    "plt.plot(x, y, 'red')\n",
    "plt.plot(a, fa, 'bo')\n"
   ]
  },
  {
   "cell_type": "code",
   "execution_count": 20,
   "metadata": {},
   "outputs": [
    {
     "name": "stdout",
     "output_type": "stream",
     "text": [
      "-4.0 1182.0\n",
      "-3.9 1072.9243999999999\n",
      "-3.8 971.6383999999996\n",
      "-3.6999999999999997 877.7603999999999\n",
      "-3.5999999999999996 790.9184\n",
      "-3.4999999999999996 710.7499999999998\n",
      "-3.3999999999999995 636.9023999999993\n",
      "-3.2999999999999994 569.0323999999996\n",
      "-3.1999999999999993 506.8063999999997\n",
      "-3.099999999999999 449.90039999999976\n",
      "-2.999999999999999 397.9999999999996\n",
      "-2.899999999999999 350.8003999999997\n",
      "-2.799999999999999 308.00639999999964\n",
      "-2.699999999999999 269.33239999999955\n",
      "-2.5999999999999988 234.5023999999995\n",
      "-2.4999999999999987 203.24999999999955\n",
      "-2.3999999999999986 175.31839999999966\n",
      "-2.2999999999999985 150.4603999999997\n",
      "-2.1999999999999984 128.43839999999983\n",
      "-2.0999999999999983 109.02439999999984\n",
      "-1.9999999999999982 91.99999999999972\n",
      "-1.8999999999999981 77.15639999999968\n",
      "-1.799999999999998 64.29439999999977\n",
      "-1.699999999999998 53.22439999999972\n",
      "-1.5999999999999979 43.766399999999805\n",
      "-1.4999999999999978 35.74999999999977\n",
      "-1.3999999999999977 29.01439999999991\n",
      "-1.2999999999999976 23.408399999999972\n",
      "-1.1999999999999975 18.790399999999863\n",
      "-1.0999999999999974 15.028399999999863\n",
      "-0.9999999999999973 11.999999999999943\n",
      "-0.8999999999999972 9.592399999999941\n",
      "-0.7999999999999972 7.702399999999983\n",
      "-0.6999999999999971 6.23639999999989\n",
      "-0.599999999999997 5.110399999999942\n",
      "-0.4999999999999969 4.249999999999886\n",
      "-0.3999999999999968 3.5903999999999314\n",
      "-0.2999999999999967 3.0763999999999783\n",
      "-0.19999999999999662 2.662399999999991\n",
      "-0.09999999999999654 2.3123999999999683\n",
      "3.552713678800501e-15 2.0\n",
      "0.1000000000000032 1.7083999999999975\n",
      "0.20000000000000373 1.4303999999999633\n",
      "0.30000000000000426 1.1683999999999841\n",
      "0.4000000000000039 0.9343999999999895\n",
      "0.5000000000000036 0.75\n",
      "0.6000000000000041 0.6464000000000034\n",
      "0.7000000000000046 0.6644000000000077\n",
      "0.8000000000000043 0.854400000000016\n",
      "0.9000000000000039 1.2764000000000237\n",
      "1.0000000000000044 2.00000000000004\n",
      "1.100000000000005 3.1044000000000667\n",
      "1.2000000000000046 4.678400000000086\n",
      "1.3000000000000043 6.820400000000107\n",
      "1.4000000000000048 9.638400000000152\n",
      "1.5000000000000053 13.250000000000217\n",
      "1.600000000000005 17.782400000000248\n",
      "1.7000000000000046 23.37240000000029\n",
      "1.8000000000000052 30.166400000000387\n",
      "1.9000000000000057 38.320400000000504\n",
      "2.0000000000000053 48.000000000000554\n",
      "2.100000000000005 59.38040000000061\n",
      "2.2000000000000055 72.64640000000078\n",
      "2.300000000000006 87.992400000001\n",
      "2.4000000000000057 105.62240000000108\n",
      "2.5000000000000053 125.75000000000115\n",
      "2.600000000000006 148.59840000000142\n",
      "2.7000000000000064 174.40040000000175\n",
      "2.800000000000006 203.39840000000186\n",
      "2.9000000000000057 235.84440000000194\n",
      "3.000000000000006 272.00000000000233\n",
      "3.1000000000000068 312.1364000000028\n",
      "3.2000000000000064 356.53440000000296\n",
      "3.300000000000006 405.4844000000032\n",
      "3.4000000000000066 459.2864000000037\n",
      "3.500000000000007 518.2500000000043\n",
      "3.6000000000000068 582.6944000000045\n",
      "3.7000000000000064 652.9484000000048\n",
      "3.800000000000007 729.3504000000055\n",
      "3.9000000000000075 812.2484000000064\n",
      "4.000000000000007 902.0000000000066\n",
      "4.100000000000007 998.9724000000067\n",
      "4.200000000000006 1103.542400000007\n",
      "4.300000000000008 1216.096400000009\n",
      "4.4000000000000075 1337.0304000000092\n",
      "4.500000000000007 1466.7500000000095\n",
      "4.6000000000000085 1605.6704000000123\n",
      "4.700000000000008 1754.2164000000125\n",
      "4.800000000000008 1912.8224000000127\n",
      "4.9000000000000075 2081.932400000013\n",
      "5.000000000000007 2262.000000000013\n",
      "5.1000000000000085 2453.488400000017\n",
      "5.200000000000008 2656.8704000000175\n",
      "5.300000000000008 2872.628400000018\n",
      "5.400000000000009 3101.2544000000216\n"
     ]
    }
   ],
   "source": [
    "for i in range(len(x)):\n",
    "    print(x[i],y[i])"
   ]
  },
  {
   "cell_type": "markdown",
   "metadata": {},
   "source": [
    "Laggange\n"
   ]
  },
  {
   "cell_type": "code",
   "execution_count": 16,
   "metadata": {},
   "outputs": [],
   "source": [
    "def lagrange_p(x, a, fa):\n",
    "    n = len(a)\n",
    "    assert len(a) == len(fa)\n",
    "    fili = []\n",
    "    for i in range(n):\n",
    "        numerator = 1\n",
    "        denominator = 1\n",
    "        for j in range(n):\n",
    "            if (i != j):\n",
    "                numerator *= x - a[j]\n",
    "                denominator *= a[i] - a[j]\n",
    "        fili.append(fa[i]*numerator/denominator)\n",
    "    return sum(fili)\n"
   ]
  },
  {
   "cell_type": "code",
   "execution_count": 20,
   "metadata": {},
   "outputs": [
    {
     "data": {
      "text/plain": [
       "True"
      ]
     },
     "execution_count": 20,
     "metadata": {},
     "output_type": "execute_result"
    }
   ],
   "source": [
    "12.0+1e-6 >=lagrange_p(-1,a,fa)>= 12.0-1e-6"
   ]
  },
  {
   "cell_type": "code",
   "execution_count": 18,
   "metadata": {},
   "outputs": [],
   "source": [
    "a=(1,2,3,-4,5)\n",
    "fa = (2,48,272,1182,2262)"
   ]
  },
  {
   "cell_type": "code",
   "execution_count": 19,
   "metadata": {},
   "outputs": [
    {
     "data": {
      "image/png": "[encoded data removed]",
      "text/plain": [
       "<Figure size 640x480 with 1 Axes>"
      ]
     },
     "metadata": {},
     "output_type": "display_data"
    }
   ],
   "source": [
    "x = np.arange(-4, 5.5, 0.10)\n",
    "y_lagrange = lagrange_p(x, a, fa)\n",
    "\n",
    "#plt.plot(x, yans, 'red')\n",
    "plt.plot(x, y_lagrange, 'cyan')\n",
    "plt.plot(a, fa, 'bo')\n",
    "mylagrange = ()\n"
   ]
  }
 ],
 "metadata": {
  "kernelspec": {
   "display_name": "Python 3.10.5 64-bit",
   "language": "python",
   "name": "python3"
  },
  "language_info": {
   "codemirror_mode": {
    "name": "ipython",
    "version": 3
   },
   "file_extension": ".py",
   "mimetype": "text/x-python",
   "name": "python",
   "nbconvert_exporter": "python",
   "pygments_lexer": "ipython3",
   "version": "3.10.5"
  },
  "orig_nbformat": 4,
  "vscode": {
   "interpreter": {
    "hash": "aee8b7b246df8f9039afb4144a1f6fd8d2ca17a180786b69acc140d282b71a49"
   }
  }
 },
 "nbformat": 4,
 "nbformat_minor": 2
}
